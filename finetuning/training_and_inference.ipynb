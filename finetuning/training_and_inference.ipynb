{
 "cells": [
  {
   "cell_type": "markdown",
   "metadata": {},
   "source": [
    "# For Fine Tuning"
   ]
  },
  {
   "cell_type": "code",
   "execution_count": null,
   "metadata": {},
   "outputs": [],
   "source": [
    "torchrun --standalone --nproc_per_node=1 train.py --wandb-project finetune-2 --device-batch-size 2 --dataset data.json --max-samples 80 --images-path training-images --test-every 20 --test-size 8"
   ]
  },
  {
   "cell_type": "markdown",
   "metadata": {},
   "source": [
    "# For Inference"
   ]
  },
  {
   "cell_type": "code",
   "execution_count": null,
   "metadata": {},
   "outputs": [],
   "source": [
    "import torch\n",
    "from PIL import Image\n",
    "from transformers import AutoProcessor, LlavaForConditionalGeneration\n",
    "from peft import PeftModel, PeftConfig\n",
    "\n",
    "IMAGE_PATH = \"training-images/11.jpg\"\n",
    "PROMPT = \"Please write a question or prompt for this image. The questions or prompts you write are just like what a user might write. The prompt/question should usually be related to the image, but may occasionally not, so as not to bias things. The prompts/questions you write cover the entire range of things users might write, including the entire range of ways users might write, english level, typos, grammar mistakes, etc.\"\n",
    "MODEL_NAME = \"fancyfeast/llama-joycaption-alpha-two-hf-llava\"\n",
    "LORA_PATH = \"checkpoints/a65dbuqp/samples_64/model\"  # Local directory path\n",
    "\n",
    "# Load JoyCaption\n",
    "processor = AutoProcessor.from_pretrained(MODEL_NAME)\n",
    "llava_model = LlavaForConditionalGeneration.from_pretrained(MODEL_NAME, torch_dtype=\"bfloat16\", device_map=0)\n",
    "\n",
    "# Load LoRA adapter from local directory\n",
    "try:\n",
    "    # Load the adapter configuration\n",
    "    adapter_config = PeftConfig.from_pretrained(LORA_PATH)\n",
    "\n",
    "    # Load the LoRA adapter weights\n",
    "    llava_model = PeftModel.from_pretrained(llava_model, LORA_PATH)\n",
    "except Exception as e:\n",
    "    raise ValueError(f\"Failed to load LoRA adapter from {LORA_PATH}: {e}\")\n",
    "\n",
    "llava_model.eval()\n",
    "\n",
    "with torch.no_grad():\n",
    "    # Load image\n",
    "    image = Image.open(IMAGE_PATH)\n",
    "\n",
    "    # Build the conversation\n",
    "    convo = [\n",
    "        {\n",
    "            \"role\": \"system\",\n",
    "            \"content\": \"You are a helpful image captioner.\",\n",
    "        },\n",
    "        {\n",
    "            \"role\": \"user\",\n",
    "            \"content\": PROMPT,\n",
    "        },\n",
    "    ]\n",
    "\n",
    "    # Format the conversation\n",
    "    convo_string = processor.apply_chat_template(convo, tokenize=False, add_generation_prompt=True)\n",
    "    assert isinstance(convo_string, str)\n",
    "\n",
    "    # Process the inputs\n",
    "    inputs = processor(text=[convo_string], images=[image], return_tensors=\"pt\").to('cuda')\n",
    "    inputs['pixel_values'] = inputs['pixel_values'].to(torch.bfloat16)\n",
    "\n",
    "    # Generate the captions\n",
    "    generate_ids = llava_model.generate(\n",
    "        **inputs,\n",
    "        max_new_tokens=300,\n",
    "        do_sample=True,\n",
    "        suppress_tokens=None,\n",
    "        use_cache=True,\n",
    "        temperature=0.6,\n",
    "        top_k=None,\n",
    "        top_p=0.9,\n",
    "    )[0]\n",
    "\n",
    "    # Trim off the prompt\n",
    "    generate_ids = generate_ids[inputs['input_ids'].shape[1]:]\n",
    "\n",
    "    # Decode the caption\n",
    "    caption = processor.tokenizer.decode(generate_ids, skip_special_tokens=True, clean_up_tokenization_spaces=False)\n",
    "    caption = caption.strip()\n",
    "    print(caption)"
   ]
  },
  {
   "cell_type": "code",
   "execution_count": 11,
   "metadata": {},
   "outputs": [
    {
     "data": {
      "text/html": [
       "<div>\n",
       "<style scoped>\n",
       "    .dataframe tbody tr th:only-of-type {\n",
       "        vertical-align: middle;\n",
       "    }\n",
       "\n",
       "    .dataframe tbody tr th {\n",
       "        vertical-align: top;\n",
       "    }\n",
       "\n",
       "    .dataframe thead th {\n",
       "        text-align: right;\n",
       "    }\n",
       "</style>\n",
       "<table border=\"1\" class=\"dataframe\">\n",
       "  <thead>\n",
       "    <tr style=\"text-align: right;\">\n",
       "      <th></th>\n",
       "      <th>category_name</th>\n",
       "      <th>images</th>\n",
       "      <th>description</th>\n",
       "    </tr>\n",
       "  </thead>\n",
       "  <tbody>\n",
       "    <tr>\n",
       "      <th>0</th>\n",
       "      <td>Mantap</td>\n",
       "      <td>[https://meragi-core-dev.s3.ap-south-1.amazona...</td>\n",
       "      <td>Mandap Size- 12' x 10' x 12' ( w x h x l )\\nIn...</td>\n",
       "    </tr>\n",
       "    <tr>\n",
       "      <th>1</th>\n",
       "      <td>Welcome Board Decor</td>\n",
       "      <td>[https://meragi-core-dev.s3.ap-south-1.amazona...</td>\n",
       "      <td>Board size- 2' x 3' (w x h)\\nFlower Ratio - 50...</td>\n",
       "    </tr>\n",
       "    <tr>\n",
       "      <th>2</th>\n",
       "      <td>Welcome Board Decor</td>\n",
       "      <td>[https://meragi-core-dev.s3.ap-south-1.amazona...</td>\n",
       "      <td>Board size- 3' x 4' (w x h)\\nFlower ratio - 50...</td>\n",
       "    </tr>\n",
       "    <tr>\n",
       "      <th>3</th>\n",
       "      <td>Mantap</td>\n",
       "      <td>[https://meragi-core-dev.s3.ap-south-1.amazona...</td>\n",
       "      <td>Mandap Size- 12' x 10' x 12' (w x l x h)\\nExcl...</td>\n",
       "    </tr>\n",
       "    <tr>\n",
       "      <th>4</th>\n",
       "      <td>Welcome Board Decor</td>\n",
       "      <td>[https://meragi-core-dev.s3.ap-south-1.amazona...</td>\n",
       "      <td>Board size- 3' x 4' (w x h)\\nFlower ratio - 50...</td>\n",
       "    </tr>\n",
       "  </tbody>\n",
       "</table>\n",
       "</div>"
      ],
      "text/plain": [
       "         category_name                                             images  \\\n",
       "0               Mantap  [https://meragi-core-dev.s3.ap-south-1.amazona...   \n",
       "1  Welcome Board Decor  [https://meragi-core-dev.s3.ap-south-1.amazona...   \n",
       "2  Welcome Board Decor  [https://meragi-core-dev.s3.ap-south-1.amazona...   \n",
       "3               Mantap  [https://meragi-core-dev.s3.ap-south-1.amazona...   \n",
       "4  Welcome Board Decor  [https://meragi-core-dev.s3.ap-south-1.amazona...   \n",
       "\n",
       "                                         description  \n",
       "0  Mandap Size- 12' x 10' x 12' ( w x h x l )\\nIn...  \n",
       "1  Board size- 2' x 3' (w x h)\\nFlower Ratio - 50...  \n",
       "2  Board size- 3' x 4' (w x h)\\nFlower ratio - 50...  \n",
       "3  Mandap Size- 12' x 10' x 12' (w x l x h)\\nExcl...  \n",
       "4  Board size- 3' x 4' (w x h)\\nFlower ratio - 50...  "
      ]
     },
     "execution_count": 11,
     "metadata": {},
     "output_type": "execute_result"
    }
   ],
   "source": [
    "import pandas as pd\n",
    "\n",
    "df = pd.read_json('product_details.json')\n",
    "df.head()"
   ]
  },
  {
   "cell_type": "code",
   "execution_count": 12,
   "metadata": {},
   "outputs": [
    {
     "data": {
      "text/plain": [
       "(329390, 3)"
      ]
     },
     "execution_count": 12,
     "metadata": {},
     "output_type": "execute_result"
    }
   ],
   "source": [
    "df.shape"
   ]
  },
  {
   "cell_type": "code",
   "execution_count": 27,
   "metadata": {},
   "outputs": [],
   "source": [
    "x = df.iloc[0,1]"
   ]
  },
  {
   "cell_type": "code",
   "execution_count": 28,
   "metadata": {},
   "outputs": [
    {
     "data": {
      "text/plain": [
       "['https://meragi-core-dev.s3.ap-south-1.amazonaws.com/product/15344/643439b9-c82a-42cd-9a07-d317b25efacc.jpg',\n",
       " 'https://meragi-core-dev.s3.ap-south-1.amazonaws.com/product/15344/98308bc8-91cc-4290-9af7-42f773bd61a9.jpg']"
      ]
     },
     "execution_count": 28,
     "metadata": {},
     "output_type": "execute_result"
    }
   ],
   "source": [
    "x"
   ]
  },
  {
   "cell_type": "code",
   "execution_count": 20,
   "metadata": {},
   "outputs": [
    {
     "data": {
      "text/plain": [
       "\"Board size- 2' x 3' (w x h)\\nFlower Ratio - 50% Art/N Bunch\\nIncluded- 5 Vases and 1 Standee\\nExcluded- All other Furniture, Props & Accessories\\n *Please Note- Prices are subject to size, flower, fabric, and accessories used.\""
      ]
     },
     "execution_count": 20,
     "metadata": {},
     "output_type": "execute_result"
    }
   ],
   "source": [
    "y = df.iloc[1,2]\n",
    "y"
   ]
  },
  {
   "cell_type": "code",
   "execution_count": 16,
   "metadata": {},
   "outputs": [],
   "source": [
    "final_df = df.iloc[:1999, :]"
   ]
  },
  {
   "cell_type": "code",
   "execution_count": 17,
   "metadata": {},
   "outputs": [
    {
     "data": {
      "text/html": [
       "<div>\n",
       "<style scoped>\n",
       "    .dataframe tbody tr th:only-of-type {\n",
       "        vertical-align: middle;\n",
       "    }\n",
       "\n",
       "    .dataframe tbody tr th {\n",
       "        vertical-align: top;\n",
       "    }\n",
       "\n",
       "    .dataframe thead th {\n",
       "        text-align: right;\n",
       "    }\n",
       "</style>\n",
       "<table border=\"1\" class=\"dataframe\">\n",
       "  <thead>\n",
       "    <tr style=\"text-align: right;\">\n",
       "      <th></th>\n",
       "      <th>category_name</th>\n",
       "      <th>images</th>\n",
       "      <th>description</th>\n",
       "    </tr>\n",
       "  </thead>\n",
       "  <tbody>\n",
       "    <tr>\n",
       "      <th>0</th>\n",
       "      <td>Mantap</td>\n",
       "      <td>[https://meragi-core-dev.s3.ap-south-1.amazona...</td>\n",
       "      <td>Mandap Size- 12' x 10' x 12' ( w x h x l )\\nIn...</td>\n",
       "    </tr>\n",
       "    <tr>\n",
       "      <th>1</th>\n",
       "      <td>Welcome Board Decor</td>\n",
       "      <td>[https://meragi-core-dev.s3.ap-south-1.amazona...</td>\n",
       "      <td>Board size- 2' x 3' (w x h)\\nFlower Ratio - 50...</td>\n",
       "    </tr>\n",
       "  </tbody>\n",
       "</table>\n",
       "</div>"
      ],
      "text/plain": [
       "         category_name                                             images  \\\n",
       "0               Mantap  [https://meragi-core-dev.s3.ap-south-1.amazona...   \n",
       "1  Welcome Board Decor  [https://meragi-core-dev.s3.ap-south-1.amazona...   \n",
       "\n",
       "                                         description  \n",
       "0  Mandap Size- 12' x 10' x 12' ( w x h x l )\\nIn...  \n",
       "1  Board size- 2' x 3' (w x h)\\nFlower Ratio - 50...  "
      ]
     },
     "execution_count": 17,
     "metadata": {},
     "output_type": "execute_result"
    }
   ],
   "source": [
    "final_df.head(2)"
   ]
  },
  {
   "cell_type": "code",
   "execution_count": 18,
   "metadata": {},
   "outputs": [
    {
     "data": {
      "text/plain": [
       "(1999, 3)"
      ]
     },
     "execution_count": 18,
     "metadata": {},
     "output_type": "execute_result"
    }
   ],
   "source": [
    "final_df.shape"
   ]
  },
  {
   "cell_type": "code",
   "execution_count": 23,
   "metadata": {},
   "outputs": [
    {
     "name": "stderr",
     "output_type": "stream",
     "text": [
      "/var/folders/n6/n6n_cc3511bf40l81y3s91c80000gn/T/ipykernel_76686/745445791.py:1: SettingWithCopyWarning: \n",
      "A value is trying to be set on a copy of a slice from a DataFrame.\n",
      "Try using .loc[row_indexer,col_indexer] = value instead\n",
      "\n",
      "See the caveats in the documentation: https://pandas.pydata.org/pandas-docs/stable/user_guide/indexing.html#returning-a-view-versus-a-copy\n",
      "  final_df['DESC'] = df.apply(lambda x: {'category_name': x['category_name'], 'description': x['description']}, axis=1)\n"
     ]
    }
   ],
   "source": [
    "final_df['DESC'] = df.apply(lambda x: {'category_name': x['category_name'], 'description': x['description']}, axis=1)"
   ]
  },
  {
   "cell_type": "code",
   "execution_count": 24,
   "metadata": {},
   "outputs": [
    {
     "data": {
      "text/html": [
       "<div>\n",
       "<style scoped>\n",
       "    .dataframe tbody tr th:only-of-type {\n",
       "        vertical-align: middle;\n",
       "    }\n",
       "\n",
       "    .dataframe tbody tr th {\n",
       "        vertical-align: top;\n",
       "    }\n",
       "\n",
       "    .dataframe thead th {\n",
       "        text-align: right;\n",
       "    }\n",
       "</style>\n",
       "<table border=\"1\" class=\"dataframe\">\n",
       "  <thead>\n",
       "    <tr style=\"text-align: right;\">\n",
       "      <th></th>\n",
       "      <th>category_name</th>\n",
       "      <th>images</th>\n",
       "      <th>description</th>\n",
       "      <th>DESC</th>\n",
       "    </tr>\n",
       "  </thead>\n",
       "  <tbody>\n",
       "    <tr>\n",
       "      <th>0</th>\n",
       "      <td>Mantap</td>\n",
       "      <td>[https://meragi-core-dev.s3.ap-south-1.amazona...</td>\n",
       "      <td>Mandap Size- 12' x 10' x 12' ( w x h x l )\\nIn...</td>\n",
       "      <td>{'category_name': 'Mantap', 'description': 'Ma...</td>\n",
       "    </tr>\n",
       "    <tr>\n",
       "      <th>1</th>\n",
       "      <td>Welcome Board Decor</td>\n",
       "      <td>[https://meragi-core-dev.s3.ap-south-1.amazona...</td>\n",
       "      <td>Board size- 2' x 3' (w x h)\\nFlower Ratio - 50...</td>\n",
       "      <td>{'category_name': 'Welcome Board Decor', 'desc...</td>\n",
       "    </tr>\n",
       "  </tbody>\n",
       "</table>\n",
       "</div>"
      ],
      "text/plain": [
       "         category_name                                             images  \\\n",
       "0               Mantap  [https://meragi-core-dev.s3.ap-south-1.amazona...   \n",
       "1  Welcome Board Decor  [https://meragi-core-dev.s3.ap-south-1.amazona...   \n",
       "\n",
       "                                         description  \\\n",
       "0  Mandap Size- 12' x 10' x 12' ( w x h x l )\\nIn...   \n",
       "1  Board size- 2' x 3' (w x h)\\nFlower Ratio - 50...   \n",
       "\n",
       "                                                DESC  \n",
       "0  {'category_name': 'Mantap', 'description': 'Ma...  \n",
       "1  {'category_name': 'Welcome Board Decor', 'desc...  "
      ]
     },
     "execution_count": 24,
     "metadata": {},
     "output_type": "execute_result"
    }
   ],
   "source": [
    "final_df.head(2)"
   ]
  },
  {
   "cell_type": "code",
   "execution_count": 52,
   "metadata": {},
   "outputs": [
    {
     "name": "stderr",
     "output_type": "stream",
     "text": [
      "/var/folders/n6/n6n_cc3511bf40l81y3s91c80000gn/T/ipykernel_76686/1610029981.py:1: SettingWithCopyWarning: \n",
      "A value is trying to be set on a copy of a slice from a DataFrame.\n",
      "Try using .loc[row_indexer,col_indexer] = value instead\n",
      "\n",
      "See the caveats in the documentation: https://pandas.pydata.org/pandas-docs/stable/user_guide/indexing.html#returning-a-view-versus-a-copy\n",
      "  final_df['image_link'] = final_df.apply(lambda x: x['images'][0] if len(x['images']) != 0 else None, axis = 1)\n"
     ]
    }
   ],
   "source": [
    "final_df['image_link'] = final_df.apply(lambda x: x['images'][0] if len(x['images']) != 0 else None, axis = 1)"
   ]
  },
  {
   "cell_type": "code",
   "execution_count": 53,
   "metadata": {},
   "outputs": [
    {
     "data": {
      "text/html": [
       "<div>\n",
       "<style scoped>\n",
       "    .dataframe tbody tr th:only-of-type {\n",
       "        vertical-align: middle;\n",
       "    }\n",
       "\n",
       "    .dataframe tbody tr th {\n",
       "        vertical-align: top;\n",
       "    }\n",
       "\n",
       "    .dataframe thead th {\n",
       "        text-align: right;\n",
       "    }\n",
       "</style>\n",
       "<table border=\"1\" class=\"dataframe\">\n",
       "  <thead>\n",
       "    <tr style=\"text-align: right;\">\n",
       "      <th></th>\n",
       "      <th>category_name</th>\n",
       "      <th>images</th>\n",
       "      <th>description</th>\n",
       "      <th>DESC</th>\n",
       "      <th>image_link</th>\n",
       "    </tr>\n",
       "  </thead>\n",
       "  <tbody>\n",
       "    <tr>\n",
       "      <th>0</th>\n",
       "      <td>Mantap</td>\n",
       "      <td>[https://meragi-core-dev.s3.ap-south-1.amazona...</td>\n",
       "      <td>Mandap Size- 12' x 10' x 12' ( w x h x l )\\nIn...</td>\n",
       "      <td>{'category_name': 'Mantap', 'description': 'Ma...</td>\n",
       "      <td>https://meragi-core-dev.s3.ap-south-1.amazonaw...</td>\n",
       "    </tr>\n",
       "    <tr>\n",
       "      <th>1</th>\n",
       "      <td>Welcome Board Decor</td>\n",
       "      <td>[https://meragi-core-dev.s3.ap-south-1.amazona...</td>\n",
       "      <td>Board size- 2' x 3' (w x h)\\nFlower Ratio - 50...</td>\n",
       "      <td>{'category_name': 'Welcome Board Decor', 'desc...</td>\n",
       "      <td>https://meragi-core-dev.s3.ap-south-1.amazonaw...</td>\n",
       "    </tr>\n",
       "  </tbody>\n",
       "</table>\n",
       "</div>"
      ],
      "text/plain": [
       "         category_name                                             images  \\\n",
       "0               Mantap  [https://meragi-core-dev.s3.ap-south-1.amazona...   \n",
       "1  Welcome Board Decor  [https://meragi-core-dev.s3.ap-south-1.amazona...   \n",
       "\n",
       "                                         description  \\\n",
       "0  Mandap Size- 12' x 10' x 12' ( w x h x l )\\nIn...   \n",
       "1  Board size- 2' x 3' (w x h)\\nFlower Ratio - 50...   \n",
       "\n",
       "                                                DESC  \\\n",
       "0  {'category_name': 'Mantap', 'description': 'Ma...   \n",
       "1  {'category_name': 'Welcome Board Decor', 'desc...   \n",
       "\n",
       "                                          image_link  \n",
       "0  https://meragi-core-dev.s3.ap-south-1.amazonaw...  \n",
       "1  https://meragi-core-dev.s3.ap-south-1.amazonaw...  "
      ]
     },
     "execution_count": 53,
     "metadata": {},
     "output_type": "execute_result"
    }
   ],
   "source": [
    "final_df.head(2)"
   ]
  },
  {
   "cell_type": "code",
   "execution_count": 58,
   "metadata": {},
   "outputs": [
    {
     "name": "stdout",
     "output_type": "stream",
     "text": [
      "588\n"
     ]
    }
   ],
   "source": [
    "j = 0\n",
    "for i in final_df['images'].values:\n",
    "    if len(i)==0:\n",
    "        print(j)\n",
    "\n",
    "    j += 1"
   ]
  },
  {
   "cell_type": "code",
   "execution_count": 59,
   "metadata": {},
   "outputs": [
    {
     "data": {
      "text/plain": [
       "category_name    1\n",
       "images           0\n",
       "description      0\n",
       "DESC             0\n",
       "image_link       1\n",
       "dtype: int64"
      ]
     },
     "execution_count": 59,
     "metadata": {},
     "output_type": "execute_result"
    }
   ],
   "source": [
    "final_df.isna().sum()"
   ]
  },
  {
   "cell_type": "code",
   "execution_count": 60,
   "metadata": {},
   "outputs": [
    {
     "name": "stderr",
     "output_type": "stream",
     "text": [
      "/var/folders/n6/n6n_cc3511bf40l81y3s91c80000gn/T/ipykernel_76686/2709626079.py:1: SettingWithCopyWarning: \n",
      "A value is trying to be set on a copy of a slice from a DataFrame\n",
      "\n",
      "See the caveats in the documentation: https://pandas.pydata.org/pandas-docs/stable/user_guide/indexing.html#returning-a-view-versus-a-copy\n",
      "  final_df.dropna(inplace=True)\n"
     ]
    }
   ],
   "source": [
    "final_df.dropna(inplace=True)"
   ]
  },
  {
   "cell_type": "code",
   "execution_count": 61,
   "metadata": {},
   "outputs": [
    {
     "data": {
      "text/plain": [
       "(1997, 5)"
      ]
     },
     "execution_count": 61,
     "metadata": {},
     "output_type": "execute_result"
    }
   ],
   "source": [
    "final_df.shape"
   ]
  },
  {
   "cell_type": "code",
   "execution_count": 63,
   "metadata": {},
   "outputs": [
    {
     "data": {
      "text/html": [
       "<div>\n",
       "<style scoped>\n",
       "    .dataframe tbody tr th:only-of-type {\n",
       "        vertical-align: middle;\n",
       "    }\n",
       "\n",
       "    .dataframe tbody tr th {\n",
       "        vertical-align: top;\n",
       "    }\n",
       "\n",
       "    .dataframe thead th {\n",
       "        text-align: right;\n",
       "    }\n",
       "</style>\n",
       "<table border=\"1\" class=\"dataframe\">\n",
       "  <thead>\n",
       "    <tr style=\"text-align: right;\">\n",
       "      <th></th>\n",
       "      <th>category_name</th>\n",
       "      <th>images</th>\n",
       "      <th>description</th>\n",
       "      <th>DESC</th>\n",
       "      <th>image_link</th>\n",
       "    </tr>\n",
       "  </thead>\n",
       "  <tbody>\n",
       "    <tr>\n",
       "      <th>0</th>\n",
       "      <td>Mantap</td>\n",
       "      <td>[https://meragi-core-dev.s3.ap-south-1.amazona...</td>\n",
       "      <td>Mandap Size- 12' x 10' x 12' ( w x h x l )\\nIn...</td>\n",
       "      <td>{'category_name': 'Mantap', 'description': 'Ma...</td>\n",
       "      <td>https://meragi-core-dev.s3.ap-south-1.amazonaw...</td>\n",
       "    </tr>\n",
       "    <tr>\n",
       "      <th>1</th>\n",
       "      <td>Welcome Board Decor</td>\n",
       "      <td>[https://meragi-core-dev.s3.ap-south-1.amazona...</td>\n",
       "      <td>Board size- 2' x 3' (w x h)\\nFlower Ratio - 50...</td>\n",
       "      <td>{'category_name': 'Welcome Board Decor', 'desc...</td>\n",
       "      <td>https://meragi-core-dev.s3.ap-south-1.amazonaw...</td>\n",
       "    </tr>\n",
       "  </tbody>\n",
       "</table>\n",
       "</div>"
      ],
      "text/plain": [
       "         category_name                                             images  \\\n",
       "0               Mantap  [https://meragi-core-dev.s3.ap-south-1.amazona...   \n",
       "1  Welcome Board Decor  [https://meragi-core-dev.s3.ap-south-1.amazona...   \n",
       "\n",
       "                                         description  \\\n",
       "0  Mandap Size- 12' x 10' x 12' ( w x h x l )\\nIn...   \n",
       "1  Board size- 2' x 3' (w x h)\\nFlower Ratio - 50...   \n",
       "\n",
       "                                                DESC  \\\n",
       "0  {'category_name': 'Mantap', 'description': 'Ma...   \n",
       "1  {'category_name': 'Welcome Board Decor', 'desc...   \n",
       "\n",
       "                                          image_link  \n",
       "0  https://meragi-core-dev.s3.ap-south-1.amazonaw...  \n",
       "1  https://meragi-core-dev.s3.ap-south-1.amazonaw...  "
      ]
     },
     "execution_count": 63,
     "metadata": {},
     "output_type": "execute_result"
    }
   ],
   "source": [
    "final_df.head(2)"
   ]
  },
  {
   "cell_type": "code",
   "execution_count": 101,
   "metadata": {},
   "outputs": [
    {
     "name": "stderr",
     "output_type": "stream",
     "text": [
      "/var/folders/n6/n6n_cc3511bf40l81y3s91c80000gn/T/ipykernel_76686/1597429514.py:29: SettingWithCopyWarning: \n",
      "A value is trying to be set on a copy of a slice from a DataFrame.\n",
      "Try using .loc[row_indexer,col_indexer] = value instead\n",
      "\n",
      "See the caveats in the documentation: https://pandas.pydata.org/pandas-docs/stable/user_guide/indexing.html#returning-a-view-versus-a-copy\n",
      "  final_df['downloaded_image_path'] = final_df['image_link'].apply(lambda x: download_image(x, output_folder))\n"
     ]
    }
   ],
   "source": [
    "import os\n",
    "import requests\n",
    "\n",
    "output_folder = 'downloaded_images'\n",
    "os.makedirs(output_folder, exist_ok=True)\n",
    "\n",
    "def download_image(url, folder):\n",
    "    try:\n",
    "        response = requests.get(url, stream=True)\n",
    "        if response.status_code == 200:\n",
    "            if url.split('/')[-1] != 'test.png' and url.split('/')[-1] != 'test.jpg' and url.split('/')[-1] != 'test.jpeg':\n",
    "                filename = os.path.join(folder, url.split('/')[-1])\n",
    "            else:\n",
    "                z = url.split('/')[-2] + url.split('/')[-1]\n",
    "                filename = os.path.join(folder, z)\n",
    "            with open(filename, 'wb') as file:\n",
    "                for chunk in response.iter_content(1024):\n",
    "                    file.write(chunk)\n",
    "\n",
    "            return filename.split('/')[-1]\n",
    "        else:\n",
    "            print(f\"Failed to download {url}\")\n",
    "            return None\n",
    "\n",
    "    except Exception as e:\n",
    "        print(f\"Error downloading {url}: {e}\")\n",
    "        return None\n",
    "\n",
    "final_df['downloaded_image_path'] = final_df['image_link'].apply(lambda x: download_image(x, output_folder))"
   ]
  },
  {
   "cell_type": "code",
   "execution_count": 100,
   "metadata": {},
   "outputs": [
    {
     "data": {
      "text/html": [
       "<div>\n",
       "<style scoped>\n",
       "    .dataframe tbody tr th:only-of-type {\n",
       "        vertical-align: middle;\n",
       "    }\n",
       "\n",
       "    .dataframe tbody tr th {\n",
       "        vertical-align: top;\n",
       "    }\n",
       "\n",
       "    .dataframe thead th {\n",
       "        text-align: right;\n",
       "    }\n",
       "</style>\n",
       "<table border=\"1\" class=\"dataframe\">\n",
       "  <thead>\n",
       "    <tr style=\"text-align: right;\">\n",
       "      <th></th>\n",
       "      <th>category_name</th>\n",
       "      <th>images</th>\n",
       "      <th>description</th>\n",
       "      <th>DESC</th>\n",
       "      <th>image_link</th>\n",
       "    </tr>\n",
       "  </thead>\n",
       "  <tbody>\n",
       "    <tr>\n",
       "      <th>0</th>\n",
       "      <td>Mantap</td>\n",
       "      <td>[https://meragi-core-dev.s3.ap-south-1.amazona...</td>\n",
       "      <td>Mandap Size- 12' x 10' x 12' ( w x h x l )\\nIn...</td>\n",
       "      <td>{'category_name': 'Mantap', 'description': 'Ma...</td>\n",
       "      <td>https://meragi-core-dev.s3.ap-south-1.amazonaw...</td>\n",
       "    </tr>\n",
       "    <tr>\n",
       "      <th>1</th>\n",
       "      <td>Welcome Board Decor</td>\n",
       "      <td>[https://meragi-core-dev.s3.ap-south-1.amazona...</td>\n",
       "      <td>Board size- 2' x 3' (w x h)\\nFlower Ratio - 50...</td>\n",
       "      <td>{'category_name': 'Welcome Board Decor', 'desc...</td>\n",
       "      <td>https://meragi-core-dev.s3.ap-south-1.amazonaw...</td>\n",
       "    </tr>\n",
       "    <tr>\n",
       "      <th>2</th>\n",
       "      <td>Welcome Board Decor</td>\n",
       "      <td>[https://meragi-core-dev.s3.ap-south-1.amazona...</td>\n",
       "      <td>Board size- 3' x 4' (w x h)\\nFlower ratio - 50...</td>\n",
       "      <td>{'category_name': 'Welcome Board Decor', 'desc...</td>\n",
       "      <td>https://meragi-core-dev.s3.ap-south-1.amazonaw...</td>\n",
       "    </tr>\n",
       "    <tr>\n",
       "      <th>3</th>\n",
       "      <td>Mantap</td>\n",
       "      <td>[https://meragi-core-dev.s3.ap-south-1.amazona...</td>\n",
       "      <td>Mandap Size- 12' x 10' x 12' (w x l x h)\\nExcl...</td>\n",
       "      <td>{'category_name': 'Mantap', 'description': 'Ma...</td>\n",
       "      <td>https://meragi-core-dev.s3.ap-south-1.amazonaw...</td>\n",
       "    </tr>\n",
       "    <tr>\n",
       "      <th>4</th>\n",
       "      <td>Welcome Board Decor</td>\n",
       "      <td>[https://meragi-core-dev.s3.ap-south-1.amazona...</td>\n",
       "      <td>Board size- 3' x 4' (w x h)\\nFlower ratio - 50...</td>\n",
       "      <td>{'category_name': 'Welcome Board Decor', 'desc...</td>\n",
       "      <td>https://meragi-core-dev.s3.ap-south-1.amazonaw...</td>\n",
       "    </tr>\n",
       "  </tbody>\n",
       "</table>\n",
       "</div>"
      ],
      "text/plain": [
       "         category_name                                             images                                        description                                               DESC                                         image_link\n",
       "0               Mantap  [https://meragi-core-dev.s3.ap-south-1.amazona...  Mandap Size- 12' x 10' x 12' ( w x h x l )\\nIn...  {'category_name': 'Mantap', 'description': 'Ma...  https://meragi-core-dev.s3.ap-south-1.amazonaw...\n",
       "1  Welcome Board Decor  [https://meragi-core-dev.s3.ap-south-1.amazona...  Board size- 2' x 3' (w x h)\\nFlower Ratio - 50...  {'category_name': 'Welcome Board Decor', 'desc...  https://meragi-core-dev.s3.ap-south-1.amazonaw...\n",
       "2  Welcome Board Decor  [https://meragi-core-dev.s3.ap-south-1.amazona...  Board size- 3' x 4' (w x h)\\nFlower ratio - 50...  {'category_name': 'Welcome Board Decor', 'desc...  https://meragi-core-dev.s3.ap-south-1.amazonaw...\n",
       "3               Mantap  [https://meragi-core-dev.s3.ap-south-1.amazona...  Mandap Size- 12' x 10' x 12' (w x l x h)\\nExcl...  {'category_name': 'Mantap', 'description': 'Ma...  https://meragi-core-dev.s3.ap-south-1.amazonaw...\n",
       "4  Welcome Board Decor  [https://meragi-core-dev.s3.ap-south-1.amazona...  Board size- 3' x 4' (w x h)\\nFlower ratio - 50...  {'category_name': 'Welcome Board Decor', 'desc...  https://meragi-core-dev.s3.ap-south-1.amazonaw..."
      ]
     },
     "execution_count": 100,
     "metadata": {},
     "output_type": "execute_result"
    }
   ],
   "source": [
    "final_df.head()"
   ]
  },
  {
   "cell_type": "code",
   "execution_count": 66,
   "metadata": {},
   "outputs": [
    {
     "data": {
      "text/plain": [
       "0"
      ]
     },
     "execution_count": 66,
     "metadata": {},
     "output_type": "execute_result"
    }
   ],
   "source": [
    "final_df['downloaded_image_path'].isna().sum()"
   ]
  },
  {
   "cell_type": "code",
   "execution_count": 96,
   "metadata": {},
   "outputs": [
    {
     "name": "stderr",
     "output_type": "stream",
     "text": [
      "/var/folders/n6/n6n_cc3511bf40l81y3s91c80000gn/T/ipykernel_76686/2710618526.py:1: SettingWithCopyWarning: \n",
      "A value is trying to be set on a copy of a slice from a DataFrame\n",
      "\n",
      "See the caveats in the documentation: https://pandas.pydata.org/pandas-docs/stable/user_guide/indexing.html#returning-a-view-versus-a-copy\n",
      "  final_df.drop(columns=['downloaded_image_path'], inplace = True)\n"
     ]
    }
   ],
   "source": [
    "final_df.drop(columns=['downloaded_image_path'], inplace = True)"
   ]
  },
  {
   "cell_type": "code",
   "execution_count": 97,
   "metadata": {},
   "outputs": [
    {
     "data": {
      "text/html": [
       "<div>\n",
       "<style scoped>\n",
       "    .dataframe tbody tr th:only-of-type {\n",
       "        vertical-align: middle;\n",
       "    }\n",
       "\n",
       "    .dataframe tbody tr th {\n",
       "        vertical-align: top;\n",
       "    }\n",
       "\n",
       "    .dataframe thead th {\n",
       "        text-align: right;\n",
       "    }\n",
       "</style>\n",
       "<table border=\"1\" class=\"dataframe\">\n",
       "  <thead>\n",
       "    <tr style=\"text-align: right;\">\n",
       "      <th></th>\n",
       "      <th>category_name</th>\n",
       "      <th>images</th>\n",
       "      <th>description</th>\n",
       "      <th>DESC</th>\n",
       "      <th>image_link</th>\n",
       "    </tr>\n",
       "  </thead>\n",
       "  <tbody>\n",
       "    <tr>\n",
       "      <th>0</th>\n",
       "      <td>Mantap</td>\n",
       "      <td>[https://meragi-core-dev.s3.ap-south-1.amazona...</td>\n",
       "      <td>Mandap Size- 12' x 10' x 12' ( w x h x l )\\nIn...</td>\n",
       "      <td>{'category_name': 'Mantap', 'description': 'Ma...</td>\n",
       "      <td>https://meragi-core-dev.s3.ap-south-1.amazonaw...</td>\n",
       "    </tr>\n",
       "    <tr>\n",
       "      <th>1</th>\n",
       "      <td>Welcome Board Decor</td>\n",
       "      <td>[https://meragi-core-dev.s3.ap-south-1.amazona...</td>\n",
       "      <td>Board size- 2' x 3' (w x h)\\nFlower Ratio - 50...</td>\n",
       "      <td>{'category_name': 'Welcome Board Decor', 'desc...</td>\n",
       "      <td>https://meragi-core-dev.s3.ap-south-1.amazonaw...</td>\n",
       "    </tr>\n",
       "  </tbody>\n",
       "</table>\n",
       "</div>"
      ],
      "text/plain": [
       "         category_name                                             images                                        description                                               DESC                                         image_link\n",
       "0               Mantap  [https://meragi-core-dev.s3.ap-south-1.amazona...  Mandap Size- 12' x 10' x 12' ( w x h x l )\\nIn...  {'category_name': 'Mantap', 'description': 'Ma...  https://meragi-core-dev.s3.ap-south-1.amazonaw...\n",
       "1  Welcome Board Decor  [https://meragi-core-dev.s3.ap-south-1.amazona...  Board size- 2' x 3' (w x h)\\nFlower Ratio - 50...  {'category_name': 'Welcome Board Decor', 'desc...  https://meragi-core-dev.s3.ap-south-1.amazonaw..."
      ]
     },
     "execution_count": 97,
     "metadata": {},
     "output_type": "execute_result"
    }
   ],
   "source": [
    "final_df.head(2)"
   ]
  },
  {
   "cell_type": "code",
   "execution_count": 102,
   "metadata": {},
   "outputs": [],
   "source": [
    "x = os.walk('downloaded_images')"
   ]
  },
  {
   "cell_type": "code",
   "execution_count": 103,
   "metadata": {},
   "outputs": [
    {
     "name": "stdout",
     "output_type": "stream",
     "text": [
      "('downloaded_images', [], ['e63db7bb-0baf-4478-b568-4318a35b5902.png', 'e3560d74-6071-418d-a733-d73f98b962d2.jpg', '52a9c9ea-acbf-49f5-9ab6-5cd9c8d1b9b7.jpg', '676test.png', '7994f58b-f716-473e-8f63-c7ab41561652.jpg', '0cde64d0-5f7e-4763-a6c4-1566c8c40662.jpg', '536b25f5-b60b-4585-a80e-a3260df1838a.jpg', '412a2dc0-5f2f-4b2f-af5a-9012be0560c0.jpg', 'ec67c8ec-2734-4f1e-9084-3d16551d772b.jpg', 'a541d6d2-5be2-40f9-8ad9-96f5e48caa86.jpg', '83984d33-9884-46ec-bd3a-27138b0ef06e.jpg', '1e6d41b8-09a0-4074-b789-b5af6e7b43ce.jpg', '62fc33e4-257a-4685-971a-0e1a25ee19c9.jpg', '071ad36c-6408-4ea5-91c3-18b3be4c3db7.jpg', '334bb425-d964-4a20-ad8c-fc7497ceb3a0.jpg', 'ede74b4c-7060-4599-ac07-5a07c7db0b09.jpg', '9d8101f4-937f-4141-9cc0-eaa14da40a71.jpg', '4656cb2d-fdc1-4bf3-82fb-82935a6a65f8.png', '744ee488-2960-4976-9724-4844c9c2baa8.png', '0e6da63c-0fdb-42a7-83a0-9f9c20fe1a13.jpg', 'd6d3e494-fa17-41cf-91af-0f6820f25ab9.jpg', '8e95e36d-aaa3-408e-ac9a-722067ab347d.jpg', 'c4dfd753-5e5e-4344-8b99-2a64869d9251.jpg', '5d02657c-0391-4bc8-8eb1-50796753d446.jpg', 'be45998c-aa03-48c0-b76c-1f13582380aa.jpg', '2deee1d9-82e3-4914-9a73-0547b69665cd.jpg', '9a2c6f6a-0749-470b-b866-c8105d88b645.jpg', '7595b7c9-5deb-42e5-831c-1373696f3569.jpg', 'ffcec9ab-70fe-4bcf-8716-68ea8984c6ec.jpg', 'd6244338-edd6-4208-859c-a76e5ac706ef.jpg', '351a4111-29cb-4289-ab6d-c0bbebef7e6a.jpg', '827157ce-314c-4d57-a66e-9555ec870b29.jpg', '6cd46778-566a-4418-863f-079beae5ad2f.jpg', '07190125-9cad-4781-8050-ffe9db5a9b37.jpg', '212test.png', '308test.png', '20f7f59b-1b43-485d-8fc9-0d080a786dec.jpg', 'b04d827e-9979-4bec-9dde-045b165c099b.jpg', 'c06394f8-1b47-4906-b0e4-878d81bc7eb8.png', 'ed9a9126-7454-4553-b490-0c15670d7183.jpg', 'a4b89453-f6e0-46d1-a4d5-825d24308381.jpg', '53532f4c-d2ac-4410-a101-2e2966d3f96b.jpg', 'a8b3d507-c224-4f21-9fd1-3969274c8711.jpg', '3de0c2b0-5a99-4d6c-b04a-5c78af9bfc29.png', 'aa3ec137-2d8b-48bf-8022-4e68222e02d2.jpg', '2d16ff4e-14fd-4b71-9500-45f2c631a0a6.jpg', 'cff0d4f4-d47c-4990-83b4-a4dd5130c15a.jpg', '323d6d9f-d66d-48e3-9ef3-be12be95f762.jpg', 'e9787023-f57d-48a0-827e-c2b232322370.jpg', '0a20532e-151b-406b-835e-be5c3ff08720.png', '73172320-fcb7-4e8d-9f6e-68547c0dee31.jpg', '1b8673a7-2fa0-4b92-a13b-ff09a2958001.jpg', 'a6df0df6-b1c1-4b87-9008-337646194493.jpg', '2d73cae4-4090-43ea-b446-9b8e94415c95.jpg', 'a5ad61e6-4928-4d52-b4e4-dfba57918f94.jpg', 'f96dfade-a920-4497-9c3e-8c6a0a9f6a8f.jpg', '309226a7-445d-492f-940c-f17a70d9094a.png', 'b3fe7362-6828-4e5a-b5cb-f09645ff9409.jpg', '10b64dc8-29d0-428f-ac58-1a13537e5015.jpg', '8eb23f20-5437-436b-a7df-b8948e97db94.jpg', 'd994be89-231e-43d6-9647-d8089edc1f9d.png', '0369adc6-2a1d-4975-89a7-082618c51a16.jpg', '7533a644-2367-41c2-ae10-2fd7302a00e1.jpg', '60b69ef0-9c86-4e35-879a-f218151a2c93.png', 'a3816948-c836-4c7e-990c-43dbc96aba34.jpg', '311test.png', '301test.png', '639d48f5-ff86-449a-a318-16b1662b1615.jpg', '5b8ead4e-54da-4cd2-a904-b385414cc90e.jpg', 'd94fd960-c36d-4452-8064-2dc82bcb66b8.jpg', '0520fbcf-ba00-456c-994c-0cf25e4de5b0.jpg', '35d992df-30bf-4aec-924c-66809d75a112.jpg', '3a8654cb-7769-429d-a3c2-b238cc7a4cc8.jpg', '12dc4b94-dd8a-4184-a85a-f213bd998e2f.jpg', 'b8372618-0645-4e25-bb5a-73ba1f3b81ff.png', '50dcfb96-4b27-4e4b-ab35-6f863f4ed479.jpg', '528c29be-da91-46f7-b0c3-ef9c34c6f8ae.jpg', 'ba3a38a3-42c8-4ed5-a716-b0a847a2b5d7.jpg', '0409dfbc-4c95-48f0-989a-6209e7d7b745.jpg', '91124566-63ab-4e25-9c8e-2fdb07cc055a.jpg', '4aec6548-ee3e-4dce-a65e-33d8d74ec6f8.jpg', 'fe8367c2-be52-45ac-9ae2-441598a45e6a.jpg', 'f4e18d48-2f6e-46b1-a5b5-216df9632281.jpg', '329d1190-5d88-4954-b5ce-f265c580cb62.png', '2bd75876-8c71-4fb2-bf0f-bc350a124abd.png', 'b30c81d3-202b-4469-82b4-b14c9e2eebf2.jpg', 'e8f77713-ad86-4c8e-8ea0-3eaa34058de4.jpg', 'c9cb94ff-5dc7-4256-9ba8-fe0b94ed1fbb.jpg', '2cbced73-586b-44fe-acdd-2a2f99766bd4.jpg', '6b8ef2eb-766d-4889-a40a-499ab30915be.png', 'f0cb1fa4-a799-4e94-a2b9-139f2f04a918.jpg', '20a40db3-d4e8-495a-9b13-cf4daf4233b3.jpg', 'ec5d8710-d392-41a7-b434-141cd7d7dad1.jpg', 'e51f7bbc-683a-446d-9342-5f2ef3b79015.jpg', '5731913b-bf52-4cf2-ba12-d0a01d6600d1.png', '4bee72aa-5ff3-4b61-8c77-7f1596ace8d6.jpg', '412test.png', 'e73b283b-3403-4369-8dd1-1c70cda055ed.png', '3219037c-8133-457f-8bf3-cd3eba06447a.jpg', '25f3d276-4c40-4d83-b3b0-a1e76e77ce40.jpg', '1dfde0cb-896b-43b9-92e2-31f3de2d2553.jpg', '95f8d343-9fab-4f68-9a55-35ead5a550ac.jpg', '989006bc-ade9-47a1-95eb-759732a16055.jpg', '7e95a39b-f46a-46dd-973d-cd4f0d7804f9.png', '01907fc2-598d-4ad4-a1dd-ba9a8fa378ef.jpg', 'b39e8ada-3898-4f96-8c99-f5da29cf4956.jpg', '8e7fa1e2-20ec-4ba7-abad-d3739cd36f6a.jpg', '40729e96-f301-4f23-9758-3e9f88257525.jpg', '7d546459-1722-4d62-8794-ab9ca55ba481.jpg', 'ca3188e1-2d0c-4b4a-bc3a-660faa4b111d.jpg', '6bbacfa4-2938-4e6e-a731-b078cf8aa9fa.png', '235test.png', '622dc8d7-d0a9-4fa9-ac97-47a5daf7efc8.jpg', 'd8a98640-bfc2-4fda-8760-7582bf3ce0b4.jpg', '518test.png', '57878ee7-c432-408e-bfbd-f36c261ae70c.png', 'f8adfd1f-fe38-4d28-8323-6cf2cac5aa3f.jpg', '1e787427-d074-4cc7-a414-295cd04dc85f.jpg', '08069564-852a-4e06-9839-e1c5188c8a7d.jpg', '58c22e96-e7f1-47c9-ba97-217e2d13137c.jpg', '3f5dcb19-1b1e-4a42-9dd5-0940293480b1.png', 'da9b4797-dcbd-4834-9808-bb3270c94273.jpg', '789b5a4a-9b1b-442b-8b67-31df1d79f27f.png', 'd53da057-dc35-4305-91ca-9934b68dfdab.jpg', '0ee81b00-a545-41f7-ae10-94dde8bf424f.jpg', '6f609c09-2c61-451c-a212-ddc5cfe92b48.jpg', '90aa1db7-4062-4c90-8a71-6feff42428b0.jpg', '3bf11a40-8f04-4cbd-bf70-effa4665abfd.png', '44501c18-8f64-45b9-9899-0e145c757974.jpg', 'bedfdc7e-ff33-4fdd-be47-0508268e5aea.png', '310test.png', '0f730cc8-75df-4f22-b500-ca0e136eda09.jpg', 'e7af62d5-95e3-421e-b69c-60a4ea857867.png', '652e7c6b-ed3f-4f59-aef5-fe23e9395ff8.jpg', 'c0d18207-0886-44cd-991c-95c051c75017.jpg', '3b94fb66-ae69-47eb-853b-2d8c1e9fb74b.png', '6fabe3c9-2135-43ef-baae-d17d240b5b01.png', '0892004a-7459-4698-a964-b4f80587f709.jpg', '6950d8f5-fb7d-46ba-935b-6fbc8ebe05d4.jpg', '203da76f-59d6-400a-bb63-9fd34985497b.jpg', '2d89d6c0-2669-40cb-9a60-447b7e5fc45e.jpg', '129f1ace-ce71-47fb-8d9d-55bb06ce56a6.jpg', '3a39b606-f1f5-409a-b6c7-f0612d1064c1.jpg', '9f7d3066-fc1f-4390-be11-196b6d3648d9.jpg', 'b7cc5c45-34ed-48dd-9690-857abdffa9b1.jpg', '285test.png', '60f4efd8-7d40-4ece-8907-4de583eaa317.jpg', 'cb37a72e-6a91-46d9-be1f-de756efad6e8.jpg', '1ba9d748-0605-43b9-bde2-95625bfbb1b8.png', '4c468c7d-bc96-4b99-9136-c5ad77c07c69.png', 'fd63ae6b-68c2-4538-b885-f0fed919324c.jpg', '75e8bcfa-f7e8-450c-9b8a-92148c38d261.jpg', '89c16f67-d1c2-4ac5-b5e1-e04e0817b12d.jpg', '046f8134-c4f8-4d39-b30d-b13b750738c8.jpg', 'decb79d4-9263-4509-a21f-ccab93060d54.jpg', '92b878af-2a10-4699-9bc9-26488135287b.png', '6517e40e-d6ef-4ac8-9cbd-b478fd1a9c7c.jpg', 'a21c304f-1de7-436b-ba07-85876ec277aa.jpg', '6bb5eab4-3b7b-4cd6-a681-9420a5b959b8.jpg', '207a54c4-5356-4248-bf51-0eeb7abc0c96.png', '19fcf846-d89b-4d59-b144-4ce69fc14be5.jpg', '786ede31-c6aa-4efe-915c-fcf0ff470d12.jpg', '814b38a3-a2ed-469e-a925-28771a998178.jpg', '833d5523-68cf-4e36-9c4e-e4058885bc70.jpg', '5fdad1a9-4ce8-4919-aae9-b87387424306.png', '730test.png', 'cfe8c977-00cf-4a53-b4c2-9bde9b24793f.jpg', 'ee6cc9e8-3f3c-4136-8875-3c4e65d1d5e8.jpg', 'a18ebb38-8e37-4d43-a29a-9c7d467ceacf.jpg', '4cf8bc3d-739a-4676-b31e-1a2c8cdda801.png', '0e911cd5-15c6-4850-9ade-f0e75675a2e8.jpg', '08979630-e340-4dad-b678-7e16ed5ccc03.jpg', '8d4f494f-fdce-4c91-86ac-42f1a0dff328.jpg', '2cfc54b4-f450-4435-a1bc-a22ab1314432.png', 'ce17aee2-e222-4fd6-bf15-91c323fe6e96.jpg', 'd5aadcc6-8ec8-4001-942e-c1d95dee7338.jpg', '712a0348-3566-4ec5-9d96-fd8a4e747657.jpg', 'c7c39d6e-7d2b-4217-ad36-c43b1abcac93.png', '855test.png', 'f3c58def-9e6a-43cf-a9d1-58edb65d5a77.jpg', 'ff97b28b-03f2-412f-ae80-25ba8643a611.jpg', '333fde04-fe30-441d-a289-eda07a06c108.jpg', 'fb2e70a8-802a-446a-ba98-54696c6bd163.png', 'eedf4f32-8475-4456-ad7a-79d24f175b5a.png', 'f47e22c9-8cac-4c12-8e0a-a4051cd7b9dc.jpg', '40324eef-bcc1-44b7-af24-6c7bbb937354.png', '3b7f74f7-ca59-465a-b683-8c479d67dd37.jpg', 'c71d31cf-519c-4f66-b7f1-6b3cd8d92ac2.jpg', '0c1f9629-db4c-48dd-a426-85a4ecf94a52.jpg', '2b3d3376-3194-4773-b385-cc3473504304.jpg', 'be5b7483-7e00-4ea7-b3af-b98262166826.jpg', '14e653bb-54bb-4e3f-85e3-b72004c75559.jpg', '499549a7-b150-46a6-b4ad-4bec34522c33.jpg', '56f48caa-ecf6-452b-b05b-e3395fb0f30b.png', '36052ac8-c93d-416c-a815-c13d0b413782.jpg', '151test.png', '06ae7061-cdb4-4003-a570-3d26727c1d09.png', '4d468450-d846-470e-90b2-8af607b50746.jpg', '9da942ba-29d3-47f6-adba-263fafe363c4.jpg', 'e45ec49a-7d43-4a1c-a086-1c3974ef01ae.png', '95f754b9-40ac-493c-93e6-ef7c831a7520.jpg', '4bab4de1-394f-471d-ac79-289603f4f6ac.jpg', '2c4a6b82-7661-4200-9c34-514386905ff8.png', '472test.png', '660175b6-2d22-4a60-8c1a-3f8659802d9a.jpg', 'da5d69f5-4bfa-4e53-91a4-0d69b2bfb486.jpg', '245test.png', '8e4f7687-28ac-4e52-9aa8-33bc7f617486.jpg', '59e5f0d4-208a-4580-8a67-1ad68c18f7bd.jpg', 'bd2bcaff-dc65-407f-a1df-5928c5888dd4.png', 'a881709d-0b62-4216-8760-adaca9d2a922.jpg', '410test.png', '1a8688be-29b1-4b6e-9312-a80155ce3d16.jpg', 'b66837fb-ab25-4db5-8518-f8dbcce6ec52.png', 'e8c72087-88d5-4d57-b11e-002f390c0302.png', 'ea261390-820b-4c81-ae3d-61220190e35d.jpg', '95b95429-e00e-49f6-984d-30e1737fba32.jpg', '18317750-4048-44f3-ab37-ee4adb8143de.jpg', 'f41ca10a-404d-402d-b6d4-37661efee9fa.jpg', '87eebc54-735e-4e72-bf4e-b7f1d4a412d9.jpg', '5357a5dd-dc5d-432a-84ad-fe9ddd38bb9e.jpg', 'ce1a8140-c95c-4832-b7fe-253250bb27c6.png', '535test.png', 'a2950780-38a3-4195-a490-550687a6a06e.png', '04ed06a5-bcc3-4c5b-b800-de38da273ee2.jpg', '4a5d97dc-6452-46f8-b8da-1177bdf44675.jpg', '83cf3495-4f45-4b49-9622-86d05a179526.jpg', '7643ed85-e2c9-4f06-85e5-05a157567ddf.jpg', '25fab0b5-27a0-425d-b2f5-275053080011.jpg', '90519c80-49b8-4a07-a65f-346aa26d1ad5.jpg', '186ef46e-b24e-48cc-92cf-f2083c8192ef.jpg', '9d37b092-d69d-4c21-b2b4-dde93ddd7a51.png', 'd3b6ae5d-30b8-4bd6-8bbc-6bc4d09c719f.jpg', '471197b3-f7da-4aba-9077-815488b430e7.jpg', '2d54f6fb-a754-432b-84b7-df3ae68d639a.jpg', '1c8e2072-6b22-41f7-a4d2-08058a234c95.jpg', '9fadfba0-8348-4a95-95f9-2d1add411dfd.jpg', 'd19636c7-c19c-4a9e-b9ea-9dd23db9125f.jpg', '41b7fb8d-ec4e-4a4f-9dda-df017b92596a.jpg', '424689da-8021-49e4-a523-dbf0b05f881d.png', '302test.png', 'c49d7f06-3cbb-4e9a-ac13-9e5b22388ba3.png', '76cdf8a1-fe6f-48f6-93c0-c80e835608e8.jpg', '324test.png', '2189fcad-035d-4d76-8667-362973605082.jpg', '95343c64-bfbc-42a9-8c76-f4a5df3afdd4.jpg', '47fc88a3-7eb2-47fd-a25e-ee6ddf220e76.jpg', 'fb52114e-bccc-412c-babc-766d0fb5b049.jpg', '10d40b76-ef25-471c-bf66-90d8527b6ec4.jpg', '5151d434-049a-4d29-a4c5-20faa8825b1b.jpg', '2b9c756c-df46-4429-b797-6096936821ee.png', '53c2127e-d784-43c4-9f79-898bc8a79f08.jpg', 'b018b8c5-5d76-4eb5-81d0-06394352ffe5.png', '7ab7405b-5823-44ee-9685-db3efeba424e.jpg', '0b42d3f4-1677-45aa-b95a-b2c0b9acbffd.png', '72cccc9f-d8aa-4c7a-b370-8f4f2f658590.jpg', '547e0dc7-4a79-4dc1-aed7-98ce11de787f.jpg', 'bb7db37f-867d-4c09-b639-5524f91f1da9.jpg', '4efc97c2-441d-4a78-927e-e32e22da46a8.jpg', '0af16d30-4abe-45d7-b9f8-eaca72be3bc8.jpg', '5fc5eb87-49ae-429e-a307-ceb320eb35ad.jpg', 'db1463ae-327d-4364-90ca-f86581f5dd67.jpg', '4b43505c-c663-4d5d-9dc9-0ce087617589.png', '3c8daa5e-3444-4f42-bb83-8b612e7feada.jpg', '297test.png', '06c0af0f-73dc-45a6-a8df-1f60b33a2c53.png', 'e542d53b-5f88-4c1a-b9ef-e91ca997142d.jpg', '6d72ae04-ef44-45f0-9491-c03035db78e8.jpg', 'b18787f2-27bb-4540-b61e-6d335a9ef4e8.jpg', '57db9152-a4ba-4296-aee3-5204500bea4c.jpg', '8011f39f-51d0-410c-9055-11418183e119.jpg', '513test.png', '3903e8c9-8b90-483d-bb83-5cfbae070eb4.jpg', 'ab1f6977-3d02-41ba-a26b-9d11876a2af1.jpg', '346test.png', '5fa98e12-80e3-4d6d-aa1e-e697cc348312.png', '3372db8d-81d8-4762-943f-0d97f8a1cfdb.jpg', 'f92b8358-23aa-46ba-8140-a9a8e304abb0.jpg', 'd119a717-20ed-4333-ac68-4db0c03bfc8e.jpg', 'ea31640f-8d2b-48e7-8039-75af1e9c6315.png', '492b3a19-3237-40a7-98da-729edcf81ce5.jpg', '33b139bb-2cec-4023-9cf1-f809a691773b.jpg', 'b109c06b-f5ac-49ae-9482-0561a1de59aa.jpg', '817e2f0c-ca0f-40dd-80bb-960129278e04.jpg', 'd5be68bf-867c-4944-8939-aff396a5c35f.jpg', 'c3d8737c-881a-434d-99da-167b499ca40b.jpg', 'd4bbb8f2-0f84-4301-8edc-95490ad66919.jpg', '734540a3-214f-4d5e-b1c0-8d48aa79155f.jpg', '273test.png', 'aa62f315-7977-4cbc-843b-2cd86850b683.png', '9cceacc4-657f-4d8c-84a9-967a9ea5dab3.png', '84834624-13c0-4932-912e-724c6d72b1a2.jpg', '87104d17-45ad-4f3a-891c-c8f61f4f8370.jpg', '09a15445-51de-4225-a645-cf3baabed154.jpg', 'bcc459e8-2ee3-4cc0-95b7-940f2573f595.jpg', 'ebd62eaa-35bb-4da7-a250-13da42e6fc22.jpg', '79baeea7-08ed-49c9-acbf-021faaa9d169.jpg', '2a41321e-ccb7-475f-8421-255ab92ff802.jpg', '24b0ec3a-4394-43b3-a1ec-b560c7406ef1.png', 'bc4136f0-423c-4e25-a2f2-a2b1377b8cdd.jpg', 'f740447b-2e05-4861-87f3-f67c7fa01336.jpg', '151915a3-0f2a-4c5a-80c7-0eb2be8fa485.jpg', '10f38330-5ff5-41f0-b346-29bccb04d72d.jpg', '880affc5-6bd8-4c7d-bc6e-19919d087820.jpg', '27341ec6-9ab3-4aeb-ac14-64b50ce9da66.jpg', '24de8041-9188-4092-829f-019e0d709495.jpg', '73015e2a-d245-4902-a95f-3cc63b86dc7c.jpg', '43664718-10be-4c82-8441-a6685dcdeaa2.jpg', '6957e646-2ec4-4c1e-8b47-497754bc4fda.jpg', '3dd47ded-8f90-4e1e-8c45-b701fdc1bbe8.jpg', 'f54875df-beca-443a-8982-2daaa0d2630f.jpg', 'df3784e5-2dd2-4894-a833-2c6fad6d241f.png', 'aaed5a4e-f58b-45be-bcce-ab0cd8f903cf.jpg', '04aeddd2-6362-4cd0-8a3d-c99e3e0c468d.jpg', '716a2a12-b553-47dc-abc5-7645a8f24016.png', '52ad9d12-a7b9-4e65-88dc-90d8f8e183a5.jpg', 'adb6cde3-dcf2-48ca-9f4e-3c1620f0d63f.png', '5f058d6f-6f48-48d2-a03f-b5c7b4243d61.png', '383a6896-0962-4d0b-92d5-4370e764d406.png', '8d5e98d6-7968-49b1-a2b9-1ff8d4015cba.jpg', '2bb448a5-b5b2-4be4-b114-9c113c4f949e.png', '629test.png', 'e6a0ee0c-2da0-454a-b6d7-3a46cf3a1174.jpg', '0ce90e4d-69fa-4840-beb7-9fce99c7a8a9.png', '58a85c89-f11c-4c7b-9fe7-e27671aa54b7.jpg', '01a96484-65ff-439c-b7cf-8c39540664f3.jpg', '427test.png', '2e43f6c9-3b9b-4584-9b2d-56d56c20d6e3.jpg', 'e7a45153-e980-40cb-b891-101801b88cf3.jpg', '262test.png', '6ab87b73-b4fb-429f-9264-721c087841a1.jpg', 'bea0e3d8-a25f-4c5c-86b4-873690e7fd53.jpg', '272test.png', '4632e7d1-55e1-45c1-a169-ac87dac09876.jpg', '9b909b15-be46-43c7-aca2-918148fed6af.jpg', 'dfed0fd0-743f-4b72-aaf9-efa65ed7f293.png', 'a936fc13-ce74-4a15-a63c-4a5289499029.jpg', '90678bf2-d3ed-4997-8f18-1671960e9fe7.png', 'd91df004-51a8-4834-8a28-df4ee77d374c.jpg', '5e5e4e72-7caa-4fcc-b635-753f4e94ec66.png', '627d05db-7557-4c1e-baaf-5d3d29c3a932.jpg', '31140f00-b1b9-4696-97d3-ee04c68f3beb.jpg', '455test.png', '217a4ae6-902f-4590-b584-d1d193308c8a.jpg', '23b6e263-99e3-4dd5-8bca-70e4191f77f5.jpg', '5a24c1ed-f6e2-4c51-ac14-0ec68c90c20b.jpg', '0619237b-d7d6-44c7-9007-103d73f26829.png', 'f16ff55d-fe3c-48bb-9b05-04dcd1ca109c.jpg', 'c558c1f1-8ba6-455d-9609-0bdba5469d06.jpg', '715test.png', 'dfe70eba-a33d-4567-bbc6-f87ad5932597.png', '8e895554-8748-4584-894d-dc9952bba6f0.png', 'a121b199-3c1e-44fd-a531-a95149673f38.jpg', '837c8d2d-43bf-4e0b-ae70-c123851b588e.jpg', 'f3aa5a5e-7b61-4937-b1d8-615699b26931.png', '431bc03a-966e-4de3-bb47-67c260a4d15c.jpg', '1447302d-bfca-41b8-b409-6e9bc0368e9f.jpg', 'e0f16974-dce2-4be5-8589-f38bfa74e691.jpg', '9efa72ef-25d1-43ae-a221-83026744dcae.jpg', 'eb298727-549a-4edb-9cfd-bced2806df83.jpg', '04d0cf41-f228-4c23-a86b-58164f3994b3.png', '6ba28b42-c3fd-46d1-9cff-4eb332c1d2cc.jpg', '0e16cf68-cc10-46e9-9988-a166810a5614.jpg', '812test.png', 'fea5ad20-c2a4-4664-8b7d-dff4e9029512.jpg', '66716eab-292b-40fc-816c-f028d0a9b3ad.jpg', '43c5875c-3684-4dfc-97a7-ee1a5bbe2140.jpg', '858e4dd6-b40d-4522-a69d-28961996630b.jpg', '9687ccb8-37d1-476a-89d8-215581ab6f47.jpg', '4fee241c-1123-45bc-96a2-4f89102990c7.png', '533a042b-22aa-4832-a7af-8f7177a1709e.jpg', '29a17980-a03d-4997-8d7b-ba6c3b479d97.png', '254test.png', '2b4e358b-a3a2-4c12-8e03-aa9927ad454f.jpg', '4a5882d7-9342-47d4-9081-2900504ef26d.jpg', '4443724a-102b-428d-9a22-b7a3c2b99fac.jpg', '28e67928-1176-4a11-bf0e-e433be02ea58.jpg', '6f0fd950-adef-4d2f-9cc1-58c4856b4763.jpg', '54133663-0d17-4493-860e-f6b55ddcc4ea.jpg', '9216b79c-cfe7-4817-ac40-ff36e8c5b9f9.jpg', '3701bc2a-6dc0-46ba-bd6b-165acfe889ef.png', '465620f1-6ce9-496b-aa5c-b8bda75e59fb.jpg', '8cdaa228-589c-4e0a-a8a0-ff2c067f353a.jpg', '9a1ecf0b-3dc9-4417-a0bb-da9a17104fbf.jpg', '264da281-eca8-4518-bc00-805d13aab319.png', '361test.png', '2cbdec4e-754b-4aff-821d-84303f1d3895.jpg', 'd36fd593-494a-48df-867c-e14ae2c324c6.jpg', '4947c5f4-e70f-48b5-8d22-108655a6ae07.jpg', 'd46c6572-2f9c-448a-8f36-ef3312da863d.png', '71e63fb5-aa43-48fb-a94a-eb1049a4ff14.jpg', '888217c3-a8f8-4f2b-8c71-7892c7eb3d9c.png', 'f5ffbb76-e585-4c21-b306-bf3ea81491e7.jpg', 'eb8e86ff-bc4a-4b00-aa64-4690da6a9746.png', '7a9a8945-d472-4412-a9ff-c400977bff67.jpg', 'd6c32142-fc2a-4c63-b0e0-7cde70569e45.png', '477c434b-7b1d-4a82-b5cf-601b89d08cb3.jpg', 'e369d5ef-a56f-48b6-baae-17933657e6ae.jpg', 'a919db3a-e725-43ae-92a6-bfabcc1fb107.jpg', '45ec60fd-34f4-4b4a-84a4-1ebae5d97632.jpg', 'eba3652d-28f7-466d-8410-3533999b596d.png', 'c922714d-4b32-4a7c-9c2b-84d967f2f1ed.jpg', '663e48a9-eb9e-48fa-99db-4543bfb6d167.jpg', '5281ed8e-60c2-4d6e-bfee-d555105ed419.jpg', '1e2bad7c-187b-4471-996d-db69427cbf5f.png', '51c0dc55-fe3c-460e-8eae-ebc7fb836ebd.png', '240b60cf-8d95-48ef-ad1e-7f5333fbde69.jpg', '7e03b40e-dfc3-40e0-b95c-dcfd74c3732d.jpg', '07b1445e-fa45-412d-9801-48e19b125eac.jpg', '0ae64cba-2ef0-4ad1-891f-8d6c13d21b52.jpg', '8aa8fe99-5e56-4676-824d-61cd3abf9838.jpg', 'd8519cc4-4466-44e4-a997-c91e163b7551.png', '10e0c00b-ec74-4f58-8907-fdeda8dc2059.jpg', '6429138e-38bf-43b7-8e76-c0200e6fdcec.jpg', '3c466f95-865a-4b60-8000-261481b868ca.png', '8c8bb155-3e8e-43c5-95a8-acc483c300b1.jpg', '75c60677-6c79-483c-bff0-ed9ef0984a64.jpg', '4e5b0a44-9c5d-4652-9642-7a68f15708fb.jpg', 'f4735d6a-1804-43a3-b6bc-14564dddd45a.jpg', '79243afe-5db1-41dc-aeb0-bd649afe9808.png', '87cf17d7-8472-4e67-b287-ef7d93ef4c78.jpg', '58636ed8-0f0d-44ac-93b8-01f2003b32f6.jpg', 'd363cd85-6293-4be6-856e-8314a229248c.png', '9368b949-d84e-4ff9-9da9-10828e90041b.jpg', 'e171b6be-5be3-44af-bd52-b5e8fdf44498.jpg', '5f117d55-2a32-44e4-b495-e1e498619a93.jpg', 'bad50d3c-2090-496f-ac88-0fc6164eb349.jpg', '862910b8-4a27-4d83-aa0b-7498d55583c1.jpg', 'f74c84ff-ed58-46d9-8f8f-19b82104f8af.jpg', '223test.png', '755e2623-c288-4921-8928-8ec8192e9277.jpg', '0609e5ba-f323-4289-a875-c3b1fb2be710.jpg', '149e9668-f0de-4e98-bd86-70d517e43ce3.png', '4b444df8-cac2-415e-afa6-675ab0728f35.jpg', 'fa1cfd3d-48e3-460d-8f19-24279632b59f.jpg', '11d9a2cb-8333-41e9-8e79-7a57c2280206.jpg', '1dd99efc-209c-4080-9120-498afceaa7ff.jpg', 'dfd434e1-88cd-48aa-811a-9b1a770a6a4b.jpg', '7b85fff6-2860-4c1b-9f50-8f9ec1a78b5f.jpg', '53cc7f80-71e8-4f24-bd0e-42fbaca37029.jpg', '1da87309-e534-491e-9014-8320c26fdb1e.jpg', '380test.png', '5ab1fb45-09c8-4f3e-bb79-a828cedb6268.jpg', 'c1ab94fd-1149-478e-8b04-f62fded595b7.jpg', '3d2d2ad9-6acc-4c36-a19f-28b0016b4928.png', '414test.png', 'c677c152-51db-4c4f-bec7-a109d9a5038b.png', 'f8cfdc55-4703-4318-9766-e4fc85b5bc4f.jpg', '907e2d26-c1a1-4683-8810-5bc215440738.png', 'd320862b-9b5a-4218-a9af-27d73d95a661.jpg', 'be661ced-0e87-4b65-ad19-35e0becc661d.jpg', '7b515152-133d-43ab-abfa-c0d92f065eb7.png', '1880faef-be5f-4eb0-9c67-79ea7b5262c1.jpg', 'd19a3b07-05a2-4a41-afc9-3d20c864a109.jpg', '006ad89d-533e-4f1b-8d52-ff8085b16de0.png', '24261ca9-4939-49e9-b64b-5d6bbbda5ffc.jpg', '3af5a68d-2de0-4028-9339-4c00e373ae84.jpg', '6ab6149f-d055-413e-a58a-31613a9b3103.jpg', '602245cd-162e-4867-a260-c681de2bc3ca.jpg', '29c8e89b-0bd0-4c73-8025-07b7c7826089.jpg', '84fa50c4-15cb-42e4-a43a-2a37f6e2526c.png', '7beade9a-39e3-40f9-83f6-8455829931dc.png', 'f94ba440-e6b4-4af6-bdfb-09112b64696c.jpg', 'f367d1e5-a9e0-4917-a64b-58c1b56e049e.png', '59d8fda3-6363-42fc-b4b1-ae1c045e68b0.jpg', '6bc115ff-7776-4c3f-9413-55496ed937d6.jpg', '9b38254d-7565-4a88-b8df-c838896804eb.jpg', '20aca7c1-b96e-4c2d-89ce-88c23d03e392.jpg', '5de21066-ec89-4baf-b4b6-d3e8658883f9.jpg', '8b013bb6-8897-46bb-9107-06aa714ab44a.jpg', '53edb3d7-e415-47b5-bdcc-a7c7cb6ce77d.png', 'e2f49167-21af-4299-b2c9-7213d45d41fc.jpg', 'fbfd3f8d-6de2-42e2-962a-29215b84f4a6.png', 'db8b4be8-819b-4d5e-a59c-0ff4c1d0e8a2.jpg', '2b07f959-5bf7-4742-b746-53b74dcfefa3.jpg', '36758683-c84d-4e61-984d-381435f3f8cd.jpg', '66f20250-f571-4d91-9b86-79fd34663f7c.jpg', '86cd61ca-6fc0-4312-bbbd-716d6a4f425d.jpg', 'd73025f0-ebf5-4bd2-95dd-15d3121f473a.jpg', '35fea901-73df-4ad3-8eaa-8501d72368b3.jpg', '1e8a3447-4843-4e58-b837-52525ce14dae.jpg', '671test.png', '3c6d83fb-9f42-4d28-ac52-437fa9ef782f.jpg', 'cd8bc390-9fd6-406b-8a25-17d0b51c0a19.jpg', '6443e332-22c9-4425-9736-43beb46da2fe.jpg', 'f3de62fe-1826-484f-b039-f5d26f6a9972.png', 'beddbd4f-b2d5-416f-8411-9852dde0fa79.png', '283test.png', '422a2473-7b40-483d-b435-8f4f3835aa91.jpg', 'b7116ce7-948d-41e0-8894-020f953ecce5.png', '552e6c93-9ccc-49aa-b8fc-ea2a4d1e7b89.jpg', 'c188d758-7cce-46b6-943e-5605320b7fb7.jpg', 'e9c92c79-4703-4993-af86-2a12ae475588.jpg', '8750a4ab-f197-4903-b04c-c74fce4bec29.jpg', '87ca3a00-fd59-42da-8c64-50214e81f1e7.png', 'db9d5fee-3e9a-4011-9727-1832597190ff.jpg', '266test.png', '010fd5ba-d553-4c9b-ace9-421a46ffcb25.png', '276test.png', 'cb7bc19b-e112-4ff6-b942-947bcbd3112b.jpg', '0a8563ba-4026-4220-9a8d-1ba54219b32d.png', '61605fd1-de78-4670-800d-6480dfa3b002.png', 'd2c16248-818a-420d-9371-0a3a0f892671.jpg', '45800a64-c65d-48f7-a603-7699e520f66d.jpg', '3981248b-3420-4760-8808-187f5b4ee0c9.jpg', '87b00937-0283-400a-95fe-bd334ad8f5a3.jpg', 'e053414b-0f8f-46ed-92ef-332fc52ecc8e.jpg', 'acd11716-9ec6-4704-bdbc-505bc05f929f.jpg', '3273182f-8948-4c3b-8ae2-865bb9ec8285.png', 'c78af0f3-7bd8-4444-abf1-70d7b22bd190.jpg', '5c25482b-2f84-4c6f-93ae-a95be68d0b54.jpg', 'b76cf21e-c34a-43ab-9f87-d3057d866007.jpg', '1e9ce8e7-d5f6-4dda-8042-a41854a82df7.jpg', 'a772410e-25d6-47ad-93cb-6805147bf294.png', 'a0f10773-eb78-446f-acf2-9ab777f2c892.jpg', '3792042d-f37f-4bf1-88da-2c8859e4d82a.jpg', '065514e9-ef37-47ed-85a5-d0177e494676.jpg', '5d3a2e4b-df8f-4964-b78e-935642154a20.jpg', '09c1dc89-1477-489f-847c-3e8b83a298eb.png', '4a02cfee-be95-4c44-945b-b58cc4ff9a8c.jpg', 'ac112c01-3cda-4314-9c29-e7fb2ef92dca.png', '4be41422-cfd1-4097-8318-8aab0fcbafec.png', '5e683306-da8f-4176-9241-84df1208e95c.jpg', 'b45604c8-4983-4e30-b0ef-bf65fc2a1227.jpg', '331test.png', 'a46dbb6b-bf60-4661-bf39-82ff1417c2f1.png', 'c0316e0c-3fc4-4bfa-ad0f-d4ce1b121165.png', '52c44232-d7b6-4c7c-80b1-78f50e955972.jpg', 'b1c56765-b7db-4846-bbf3-7eb65c6b9130.png', '388test.png', '2c33435b-7593-4ec4-8a60-ba2cde14fa6c.jpg', 'c229fc85-9c4b-4083-bc32-f642719c4943.jpg', 'a06a63dd-9012-4f5c-a26c-66c53185290b.jpg', '708c01c5-bf1c-4b11-a0da-005673a0847e.jpg', 'dead1588-7e2e-47a9-8432-e5d7e77e8845.jpg', '7c9da798-1d68-4e56-b7fa-cfd500929342.jpg', 'd9b59858-90eb-4ee9-94dc-f153aa829f32.jpg', 'f593f1b0-921f-4dfc-9e1c-bfe021c63d30.png', 'bc278db8-2cb8-4692-8eac-d2dabf205203.jpg', 'c2cecdab-72cd-4274-8b2d-c816d49a86da.png', '1c983307-3ff7-4acf-bbcc-ff3b3e837043.jpg', '0e898170-dd17-46b1-9dcf-25d87bb22c2b.jpg', 'd78e018e-4b6c-4492-ae4e-9fd18bd1c40c.png', '292test.png', '1927470a-a6bb-4b03-becb-01fda5b4bd70.png', '4610f693-0d65-4421-abae-df322eac0366.jpg', '87375204-cf3a-412b-acb1-ff19e803c56e.jpg', '95334e22-9c74-47fd-a3ed-3959fba9fd49.png', '98e642e4-5cd0-4ae3-83f1-f47bdc9e52cc.jpg', 'c41817c9-1aab-4494-adcb-a73a27caab01.jpg', '77ee885c-7e10-4a36-b275-2644541a5950.jpg', '42f52e73-4bcb-46bd-8215-bfbfe81ab4e9.jpg', '34d96b57-b9eb-4626-b9aa-4ce2494eb2d7.jpg', 'c8c0e07c-90e5-4dd4-b7ad-6773ebe47011.png', 'a9a5d7aa-dbb6-4b18-b338-03080dfba860.jpg', '60d07197-bb54-41a1-a29d-ca20c4c482b5.jpg', '235623bc-ae23-4fe0-bec3-cfaa8ab0463b.jpg', '1b88bb71-b6d2-4f61-8006-1a356d1d9daf.jpg', 'c596d222-ba4b-4074-bd7f-929ac727737c.png', '522ced9d-62a6-4cfe-bf38-9a5e22801994.jpg', '8ad5a38c-4e8a-4e8d-877a-3f497d418d93.jpg', 'd5de1f44-fb1c-48de-abd2-6282a99471af.jpg', 'cc0a06c0-5c6a-42af-be2f-740f8909058b.jpg', 'f67cc616-9d27-45da-9a9b-81e344639802.jpg', '3e8fb4f0-9129-44e2-9e1b-b83f6448a683.jpg', 'fd29a3ad-e4d7-4eeb-a54c-33a963639b90.jpg', 'b8402d95-15e0-4b58-b1b5-7753c1c2a1eb.jpg', 'c7c794ea-30d3-4ce4-a377-9ea2e32d616c.jpg', '2eedc38b-243d-48cf-94e5-ff609b1f4f91.png', '1758714f-1ed8-40e2-857b-c40a34c2a045.png', '05542e61-80d8-44a4-acc8-1a93422a63d5.jpg', 'a37f1520-96f6-4229-a6f1-b2650cd5806f.png', '0ce8e8d0-73a3-4912-a1ae-71db6cf84d8b.png', '1db470a4-d2dd-41a7-a596-455d04adf9e2.png', '75fededa-014c-4f07-b6ac-c8e180dac201.jpg', '22ac1fdc-59a3-42b8-9d5a-c4aeabfd7f69.png', 'b185d1ff-fd59-4ceb-bc53-4bdde6682bcc.jpg', '98e47e72-c003-4890-b642-75359ab451b3.png', 'c7fc5bea-c76a-48f9-8a48-e496b2dfc892.jpg', '702c1135-49b4-485f-8e5a-841c6174385e.jpg', '1409280c-65bd-4f7f-81f3-41178a596ee8.jpg', '5ded08ce-ed7b-41b8-925a-030b62b0bdf3.jpg', '8c1f5c0b-e2ea-47c1-8b5a-a5a74d8e6156.jpg', '717befc2-35d6-44dd-82cd-e72444ccefef.jpg', '298e0f8f-95fd-485f-a528-abd7b920ca10.png', '763test.png', 'a29b9251-0704-4461-b41b-621d58f89ace.jpg', '5d1efe5d-68b4-4697-a7c8-a174879e4367.png', '2caa9275-dc76-4e3a-a02c-b798eaa96ae1.png', '3d875756-0e65-40b2-bc34-763adbfcd945.jpg', '702ff94c-bc12-4a6a-85ef-928a7cc93f23.jpg', '54a81831-6e19-4b93-b654-80920e08dd76.jpg', 'a346a663-13d1-4314-8983-881eff205e4f.jpg', '9d4dd316-0174-4f0b-abf4-dc416d3a773f.jpg', '643439b9-c82a-42cd-9a07-d317b25efacc.jpg', '63e13995-8dca-4e57-ba39-1450dd724c56.jpg', 'f6e40db7-85e3-4b1c-ac85-6ef58cb6de79.png', 'ce67a0dc-7ea9-4f49-8eb9-6fe46e593e97.jpg', 'a54e8a15-5fc0-45b1-b995-9f2227fa8a83.png', '6b86aa07-d6c1-4de8-b784-cdb235ff0f60.jpg', '8296b76d-0d53-495b-97dd-596358929529.jpg', '3546eb98-b431-4877-ace1-d588d9cec510.jpg', '2ac25ec0-da3e-4bb3-b1a6-b393fbe4b93c.jpg', '843bd697-b22b-4f32-a27e-7a32e09c7972.png', '99d4e318-2c11-4685-b213-dfcc6598bf52.jpg', '51290fa7-c22a-4b16-b4b8-317977add70c.jpg', 'a248a9cb-950f-4dbd-a6c5-d84e33cb2928.jpg', '6beeece3-4de1-431c-a57e-b992fa384040.jpg', '9b970c48-74b1-45e9-b4b8-6b247dc98435.jpg', '5fb51442-979d-4d11-8674-c3dddc0947fe.jpg', 'fab5735c-5b15-4b2a-adbe-11cb8ce5e797.png', '498test.png', '6e5b142a-cd5c-4541-b2bf-b555afbddc98.png', '155e2203-c851-4099-9916-dc2fd5054219.jpg', '5671258d-9140-4bfc-9600-0652fb17c933.jpg', '1a8ad360-8785-4a5d-9108-5f4109a20fd2.png', '21d5b633-320c-4eca-8612-9da3e2b6ec36.jpg', '11597cfe-83f4-4116-9214-df065d03ef2a.png', 'ec0d26e8-2ccf-4b63-9ce3-9690d265c1fb.jpg', 'ef8bf0fc-1f48-408c-8b3f-f341a6d9a542.jpg', 'a2097e67-cdc2-4243-bd7e-8765578f0a67.jpg', 'bbdac805-04a3-4700-bb42-f9f2c2331a97.jpg', '70c2a786-e5b2-467d-a995-be8fca88fa87.jpg', '87a9e964-b37d-44ac-871d-25d01602c7a4.jpg', '5b3adfb7-efd1-4457-bf14-61d2fcd869e1.png', '2d0902de-b369-42f2-a476-a50d98dd06f6.jpg', 'ef1df9d4-b4b2-44dd-8b46-5dcfb9619ee7.jpg', 'e42e2e61-4f41-468c-804f-7e1dc83df1b1.png', '27502c30-76b4-4a62-b4bd-0fdcf7d7e414.jpg', '0e885fe2-996c-4597-8675-f8473f3ed15a.jpg', '16147153-1115-4319-b5b6-7a5882041021.jpg', '8e9fd28f-9087-4788-970a-19def4f9b457.jpg', '323test.png', 'b8002401-e9c3-4c5a-9e33-829b55c81ed7.jpg', '63c200d8-b77c-4332-911a-36ea34ce895e.png', 'd9b9b2e4-5b06-4ef2-9256-01399183fad3.jpg', 'b4164c38-1f92-4152-af67-7a945a5f3fa3.jpg', '58de7566-28db-447d-8fc1-c0a1edf48d28.jpg', '4ae7161e-1428-437b-af96-4eebac0efa18.jpg', '0f070a69-e265-4eba-a06d-1889cdc20bef.jpg', 'd763fdff-9c17-4d37-a086-58e257bb9861.jpg', '1eef4bc7-df79-4f70-96be-bd7915db04e2.png', '4badae59-1463-427f-a8cc-1d5d68f9c9e7.jpg', '7e7a77eb-a762-45fc-ae8c-cf495df89c7b.jpg', '3bf4c84b-c632-4692-84b4-e46e6b35267b.png', '77fd86c6-8aa3-4a46-b3f3-fd0976325a4c.jpg', 'f1658353-4ab9-458c-a6bc-48f4bb9a3a35.jpg', 'a243766e-71e2-47a7-8005-08aa967c28f3.png', '33563eef-0088-46ae-b33c-30ec7fad08a4.png', '28c7508c-99dd-467e-ac30-49cd1cc22797.jpg', 'ac4961f3-b32d-4c8d-99c4-88057bfab920.jpg', 'c6f58f68-d642-4800-a0aa-3b57bb22a879.jpg', 'd4c0393c-35d9-4fae-a188-24fdbb9d9fcc.jpg', '5640f6d2-36b1-4806-a28b-4a0f8bc332f6.jpg', '72b72095-1c4a-4c90-9d2b-4c83eb8ef0dc.jpg', 'db5ceeb9-214d-4083-b26c-d34831f553e9.jpg', 'a2e54608-589c-4103-be9f-dc90f81b25cd.jpg', '5bb6ad65-5d79-4b6c-a7bc-be10a5f57a71.png', 'f8a8d95d-a50d-4191-8a49-1bd3ddb39691.jpg', '42557796-4240-4148-8a5c-bfb0c5b3281d.jpg', '99499bb1-8e84-4add-96c4-cb6c8117f6da.jpg', '2e63fd6a-8b46-40c8-8615-16b23f30fe8b.jpg', '09fcfbc3-3014-4cdf-acdc-e870ab8a3355.jpg', 'e45cc8fa-9560-40c8-84aa-9a60de78cb30.png', '179test.png', '93f3def0-6fcf-4eb3-bc32-c7798ec7aab8.jpg', 'fa4e2732-94db-475a-b71e-53bf48dc7019.png', 'b8b559bc-3324-4c2d-b90c-9a93b22bbef8.jpg', '385449d2-c8f1-41d6-a479-7b56027eecf3.png', '82f61f5a-8d04-4d5e-89e1-c486444aefd3.jpg', '9ed6500a-f83a-450e-8f2b-a9bcc41cad33.jpg', '19770137-b9f7-4794-8ad5-3e1680ab7b57.jpg', 'b9eb9987-8fe8-4420-b17d-8e1db7a60675.jpg', '23ba0b20-68fa-4e87-b2ec-cfdc07e9264a.jpg', '8be79f1e-ad0a-4c1c-985c-ba6b54040533.png', 'c897dda8-8831-4f85-a187-68110f6ca13e.png', 'ecbf95fa-f2bb-4fc1-a24c-a32c0ab8010a.jpg', '62c07908-a0eb-4694-87a7-0c44d67ddbe3.jpg', '252test.png', '8ba024f6-f9b1-481a-bf18-02fdf28afb7c.jpg', '39212723-53ba-4ef7-8659-2b3a98515a64.jpg', '737518f9-7c23-41a6-8d85-9e61dd8b8632.jpg', '8de3936e-c1a2-4ed0-a389-25834eaa58ca.jpg', '7a3ccdc1-5e67-47d5-83d1-4b93e97d5150.jpg', '44802635-1a11-4c27-992c-77d456135132.jpg', '9eac5d4a-4fae-48d2-852b-85708e11319a.jpg', 'ed02daf4-869c-4edc-ba14-7bc30fafb3df.png', '661d83a7-a86d-43d0-b208-c49b7b3819dc.jpg', '19bf505d-4004-45a6-a531-2b2eb4d3137c.jpg', '9bf82ede-0969-4966-9362-a9b2f4f77cb7.png', 'c4a10253-f5f3-41f3-8e79-0f9e00333c10.jpg', 'ea22350d-6275-45f2-afb4-2adb3f6611e5.jpg', '42527c62-6ee5-422a-a464-ed33e17f0398.jpg', 'd36febed-13cf-48b2-9f32-36a639a355e6.jpg', '2078088f-3cf7-46b1-a4b7-dc65e2b89d62.jpg', '881e6267-9cea-499d-953d-18ec990cb5c9.jpg', '46adc730-876f-41b8-a3f0-63c8eae397f7.jpg', 'caa28a38-acb1-436b-89fe-80fe1e609b8e.png', 'a48d8903-f329-472d-9c10-7f00612dc729.jpg', '6685f43b-b876-4155-91b0-e9fac140d0d7.jpg', '05829cff-862b-448a-9ae6-44a385114d1d.jpg', '348test.png', '6f697dfe-db6f-4e9b-8005-b63798686902.jpg', '92550f1e-bc5e-49db-8be5-aac919177154.jpg', '1956f459-e31f-4fcf-88cf-db53755a841c.png', '541test.png', '9e4a4710-8774-4f27-acbd-6dc6c5d85e95.jpg', '4f65adb9-1a4f-439e-9ddb-a47c001bf25b.jpg', '1130ab93-372f-4c03-8143-5c5fea3bda09.jpg', 'bf385d46-0e8e-4a89-8991-545f8189c6a1.png', '1651fff8-1b12-4b2c-9aea-42dcad1ce34a.jpg', 'b87c7dd1-ef5b-4b7f-bdff-aa4f5b8ca5b1.png', '6945f918-2e37-4ffc-93b5-eee56473e3ac.jpg', 'aa2f0c94-2dcd-4dd6-af25-82a1a21f64ca.jpg', '7fb7b2a9-35d9-47a9-ad42-f322c7ee40f1.jpg', '08c06ecd-aa24-48ac-9484-f667a1313fe9.jpg', '14de2775-5922-4b34-a141-d6e90c18dd28.png', '8e0f8140-dfbd-4882-8ef9-6510c1477f5b.png', '3b2ddb4a-8042-43f5-ae08-aba1c07730f0.jpg', '366test.png', 'f8861a2b-f962-44ea-a1d6-e1a10f2aefd8.jpg', '4a26076d-63fe-4c5b-a594-d4fa634dafd2.png', '599a5e3c-d1be-444f-838c-cd87f3985a75.jpg', '655test.png', 'e67b41a4-d5b3-46ec-8d58-120d4e06cf7d.jpg', 'c8a51405-1468-48b1-a5e7-ef139cf691d6.jpg', 'b17d51f1-9f7e-4e71-981b-7440e55f589f.jpg', '78054767-1478-4c60-9ab7-0c9220712a71.png', '8b15cc51-1087-4932-a776-151b298d6403.jpg', 'f3e275a6-5ab7-43ed-8708-a214c5fe3133.png', 'da4f6be1-a4b8-4fc4-ab2f-ccc64253dd09.png', '1c3c3d95-5891-4fb5-8cea-d1f91f3e3f43.png', '382test.png', 'db06eab9-c1a3-4ed6-a23d-eec7f5ac87ff.png', '6b6ccaa6-f08d-4f45-a455-59e45be76467.jpg', 'c6124dc1-7c51-460d-8a86-3b234dc667e6.jpg', 'ad7ec77e-60c7-453d-9210-f01baeb6b737.jpg', 'cdbf81b9-948f-4f29-bfa2-df2474e18fc8.jpg', '1d7784c8-e209-4138-9fc1-c9e5a4cdd9e5.jpg', '65298246-8fb8-4bc3-8fde-926090b9d22f.jpg', '7853a56d-7f2e-4f4f-8eb9-30e19ca4ce7f.jpg', 'ed541664-cc10-4114-98cb-ce909e1aa72c.jpg', '760test.png', 'fa85851b-246a-4501-825f-7073cb512874.jpg', '6090c27c-747a-416c-a675-ce7692edfff1.jpg', '79904f89-d15e-43c5-a208-39679ad62b95.png', '9df81a51-9625-4ca7-a0f7-b256f53cf15a.jpg', '0f8b4f9d-a80c-49be-9729-49c4831a1ce6.jpg', 'c0fe9f4b-54c7-44c0-953e-b2b672355c14.jpg', 'bc753258-a219-4b21-b203-f2d271ae105c.png', '4aa4cca3-4f9d-4e24-92c4-ac324700d5f5.jpg', '5069004f-5a36-43c1-85f8-01c52d3e8330.png', '8b6506a8-c61d-43b2-a89c-f4bea4571121.png', '4d90ebbc-aee3-4c7d-b765-4e3be780015f.jpg', '693eb760-fc07-4753-a72f-909e7ed2445e.jpg', '889749b5-d0b2-443d-8963-9242883759a6.jpg', 'd5e42657-b7a7-4bd3-941d-c1d048a6ff1f.jpg', 'd11ca5b2-e579-4272-be89-a29536b544b0.jpg', '2f88da04-022e-48e0-97c6-b87ffee2c672.jpg', '8a4097ad-e074-4a55-be47-a6bfd1b666f4.png', '4175d2a8-39d9-4d54-b602-8f81861343ce.png', '851test.png', '094c4d00-6d66-4840-b1de-2b7fc338213e.png', '81f1a28d-e44f-439e-b1cb-f5bbe2e16edb.png', '23f7ea43-4c82-4414-ae11-ec609b830b93.jpg', '50e91318-7466-4464-bf09-461f89d801ee.jpg', 'fb7a5bcf-576f-41d7-a842-f34af7681f87.png', '217test.png', '7f44d044-ab74-49d4-ac46-9e7f66b6b5fe.jpg', '150b69ae-0f76-4de4-a6ee-6ed24fb4ce88.png', '1398f9a5-d9f9-42d5-a754-02d4fec3af58.jpg', '56f0b236-d496-48dd-9b86-19a7e610991f.jpg', '86c763d1-0aa9-4b22-86c3-c9fa7075e1ca.jpg', '03dab93d-d2ff-4dea-9134-8f342938bfcd.jpg', 'c7debaaf-20b0-462f-bd30-106f496c9821.jpg', '684b0cd2-5082-41dc-9b62-b001ff28a819.jpg', '32a4a78f-bda5-43ac-a8bd-85c03b2605cd.jpg', '568e979b-388f-4a71-b98b-9f633e7e5f30.jpg', '3061525a-ef9d-4843-b166-5a22e0f5a8e0.jpg', 'd6cdec37-70a0-4eb7-b109-7e999219ebf9.jpg', '275test.png', 'f1f8cded-be7b-4b70-b0bf-502198b798bc.jpg', '420test.png', '2b52e42b-8b24-4ede-ae53-c15ad0116f13.jpg', 'dac9b73f-3ef2-4dff-8cf0-f5ab8968b86c.jpg', '72e54096-fc1d-4994-8c9a-af5c330deecf.jpg', 'b43c17be-1393-4801-bfdf-b05b0f9a0c40.jpg', '21bc3a5a-522e-48a2-a1c7-ee9d0e776f1a.jpg', 'a5983b38-648e-4d41-852d-151164d4b035.jpg', '9de3d94d-3f0e-4ebb-8558-3df8f0ae694d.jpg', '4b0a583e-3a29-4799-9ee2-84db047ab43f.png', '1ca0c519-3f83-40ba-a747-c9829c5dd626.png', '17ee235c-d92d-4983-9a41-386ab60e80cc.png', '12c1ecaf-8e3e-4a9a-8542-399f0dec6798.png', 'b43c1f0f-4bc7-4950-a4c6-b516f2f2945b.jpg', '9ea3463f-395f-4d44-aa4f-0647f428f497.jpg', '1fea530e-76ac-41f3-84a6-653f97d8edbd.jpg', '5af5c8de-4a66-43f4-b929-a330c84bf5e1.png', '5cd7964b-4ab6-4737-b467-3aa08e9d2700.jpg', 'c72db53e-cfdb-4426-a4da-a14c987e878a.png', '9c75592a-fb5e-42c9-a4e8-5fe11401b75d.png', '939a7daf-8d8e-4bf7-8454-9f8602b6027e.jpg', 'cdf86f4a-1fa3-435d-9631-da52a5b67733.jpg', '4d6962f8-4e77-4a81-a8cc-e3d05a638c3d.jpg', 'c0a15752-df0f-4218-9641-c2930d2d484d.png', '8e121e67-9908-4067-bfe7-b4dd777a1a3c.jpg', '90843749-88bc-4ef6-ab9c-374a483f0389.jpg', '36875f10-9779-4532-9b20-49e2c84d0863.png', '7f52c213-eb80-4d95-8a77-700e7630faa3.jpg'])\n"
     ]
    }
   ],
   "source": [
    "j =0\n",
    "for i in x:\n",
    "    print(i)\n",
    "    k = i[2]"
   ]
  },
  {
   "cell_type": "code",
   "execution_count": 104,
   "metadata": {},
   "outputs": [
    {
     "data": {
      "text/plain": [
       "809"
      ]
     },
     "execution_count": 104,
     "metadata": {},
     "output_type": "execute_result"
    }
   ],
   "source": [
    "len(k)"
   ]
  },
  {
   "cell_type": "code",
   "execution_count": 105,
   "metadata": {},
   "outputs": [
    {
     "data": {
      "text/plain": [
       "(1997, 6)"
      ]
     },
     "execution_count": 105,
     "metadata": {},
     "output_type": "execute_result"
    }
   ],
   "source": [
    "final_df.shape"
   ]
  },
  {
   "cell_type": "code",
   "execution_count": 106,
   "metadata": {},
   "outputs": [
    {
     "data": {
      "text/plain": [
       "0"
      ]
     },
     "execution_count": 106,
     "metadata": {},
     "output_type": "execute_result"
    }
   ],
   "source": [
    "final_df['downloaded_image_path'].isna().sum()"
   ]
  },
  {
   "cell_type": "code",
   "execution_count": 88,
   "metadata": {},
   "outputs": [],
   "source": [
    "pd.set_option('display.max_rows', 500)\n",
    "pd.set_option('display.max_columns', 500)\n",
    "pd.set_option('display.width', 5000)"
   ]
  },
  {
   "cell_type": "code",
   "execution_count": 95,
   "metadata": {},
   "outputs": [
    {
     "data": {
      "text/plain": [
       "['https://meragi-core-dev.s3.ap-south-1.amazonaws.com/product/275/test.png']"
      ]
     },
     "execution_count": 95,
     "metadata": {},
     "output_type": "execute_result"
    }
   ],
   "source": [
    "x = final_df['images'][113]\n",
    "x"
   ]
  },
  {
   "cell_type": "code",
   "execution_count": 110,
   "metadata": {},
   "outputs": [
    {
     "data": {
      "text/plain": [
       "(1997, 6)"
      ]
     },
     "execution_count": 110,
     "metadata": {},
     "output_type": "execute_result"
    }
   ],
   "source": [
    "final_df.shape"
   ]
  },
  {
   "cell_type": "code",
   "execution_count": 111,
   "metadata": {},
   "outputs": [
    {
     "name": "stderr",
     "output_type": "stream",
     "text": [
      "/var/folders/n6/n6n_cc3511bf40l81y3s91c80000gn/T/ipykernel_76686/2969662157.py:1: SettingWithCopyWarning: \n",
      "A value is trying to be set on a copy of a slice from a DataFrame\n",
      "\n",
      "See the caveats in the documentation: https://pandas.pydata.org/pandas-docs/stable/user_guide/indexing.html#returning-a-view-versus-a-copy\n",
      "  final_df.drop_duplicates(subset=['downloaded_image_path'], keep='first', inplace=True)\n"
     ]
    }
   ],
   "source": [
    "final_df.drop_duplicates(subset=['downloaded_image_path'], keep='first', inplace=True)"
   ]
  },
  {
   "cell_type": "code",
   "execution_count": 112,
   "metadata": {},
   "outputs": [],
   "source": [
    "final_df = final_df.reset_index(drop=True)"
   ]
  },
  {
   "cell_type": "code",
   "execution_count": 114,
   "metadata": {},
   "outputs": [
    {
     "data": {
      "text/html": [
       "<div>\n",
       "<style scoped>\n",
       "    .dataframe tbody tr th:only-of-type {\n",
       "        vertical-align: middle;\n",
       "    }\n",
       "\n",
       "    .dataframe tbody tr th {\n",
       "        vertical-align: top;\n",
       "    }\n",
       "\n",
       "    .dataframe thead th {\n",
       "        text-align: right;\n",
       "    }\n",
       "</style>\n",
       "<table border=\"1\" class=\"dataframe\">\n",
       "  <thead>\n",
       "    <tr style=\"text-align: right;\">\n",
       "      <th></th>\n",
       "      <th>category_name</th>\n",
       "      <th>images</th>\n",
       "      <th>description</th>\n",
       "      <th>DESC</th>\n",
       "      <th>image_link</th>\n",
       "      <th>downloaded_image_path</th>\n",
       "    </tr>\n",
       "  </thead>\n",
       "  <tbody>\n",
       "    <tr>\n",
       "      <th>0</th>\n",
       "      <td>Mantap</td>\n",
       "      <td>[https://meragi-core-dev.s3.ap-south-1.amazona...</td>\n",
       "      <td>Mandap Size- 12' x 10' x 12' ( w x h x l )\\nIn...</td>\n",
       "      <td>{'category_name': 'Mantap', 'description': 'Ma...</td>\n",
       "      <td>https://meragi-core-dev.s3.ap-south-1.amazonaw...</td>\n",
       "      <td>643439b9-c82a-42cd-9a07-d317b25efacc.jpg</td>\n",
       "    </tr>\n",
       "    <tr>\n",
       "      <th>1</th>\n",
       "      <td>Welcome Board Decor</td>\n",
       "      <td>[https://meragi-core-dev.s3.ap-south-1.amazona...</td>\n",
       "      <td>Board size- 2' x 3' (w x h)\\nFlower Ratio - 50...</td>\n",
       "      <td>{'category_name': 'Welcome Board Decor', 'desc...</td>\n",
       "      <td>https://meragi-core-dev.s3.ap-south-1.amazonaw...</td>\n",
       "      <td>52a9c9ea-acbf-49f5-9ab6-5cd9c8d1b9b7.jpg</td>\n",
       "    </tr>\n",
       "  </tbody>\n",
       "</table>\n",
       "</div>"
      ],
      "text/plain": [
       "         category_name                                             images                                        description                                               DESC                                         image_link                     downloaded_image_path\n",
       "0               Mantap  [https://meragi-core-dev.s3.ap-south-1.amazona...  Mandap Size- 12' x 10' x 12' ( w x h x l )\\nIn...  {'category_name': 'Mantap', 'description': 'Ma...  https://meragi-core-dev.s3.ap-south-1.amazonaw...  643439b9-c82a-42cd-9a07-d317b25efacc.jpg\n",
       "1  Welcome Board Decor  [https://meragi-core-dev.s3.ap-south-1.amazona...  Board size- 2' x 3' (w x h)\\nFlower Ratio - 50...  {'category_name': 'Welcome Board Decor', 'desc...  https://meragi-core-dev.s3.ap-south-1.amazonaw...  52a9c9ea-acbf-49f5-9ab6-5cd9c8d1b9b7.jpg"
      ]
     },
     "execution_count": 114,
     "metadata": {},
     "output_type": "execute_result"
    }
   ],
   "source": [
    "final_df.head(2)"
   ]
  },
  {
   "cell_type": "code",
   "execution_count": 115,
   "metadata": {},
   "outputs": [],
   "source": [
    "test_df = final_df[['DESC', 'downloaded_image_path']]"
   ]
  },
  {
   "cell_type": "code",
   "execution_count": 118,
   "metadata": {},
   "outputs": [
    {
     "data": {
      "text/plain": [
       "{'category_name': 'Mantap',\n",
       " 'description': \"Mandap Size- 12' x 10' x 12' ( w x h x l )\\nIncluded- \\n50% Ar/N Flower Ratio & 3 Side Beam Decor \\nExcluded- Platform, Lights, Furniture & all other Props & Accessories\\n*Please Note - Prices are subject to size, flower, fabric, and accessories used.\"}"
      ]
     },
     "execution_count": 118,
     "metadata": {},
     "output_type": "execute_result"
    }
   ],
   "source": [
    "test_df.iloc[0,0]"
   ]
  },
  {
   "cell_type": "code",
   "execution_count": 116,
   "metadata": {},
   "outputs": [
    {
     "data": {
      "text/plain": [
       "(809, 2)"
      ]
     },
     "execution_count": 116,
     "metadata": {},
     "output_type": "execute_result"
    }
   ],
   "source": [
    "test_df.shape"
   ]
  },
  {
   "cell_type": "code",
   "execution_count": null,
   "metadata": {},
   "outputs": [],
   "source": [
    "final_prompt = \"Analyze the image and generate a structured dictionary containing decorative items present.\\n\\nRules to Follow:\\n1. Ignore People: Do not mention any person/people in the image. Focus solely on décor elements.\\n2. Structured Output: Return the response as a dictionary with the following keys:\\n   - category_name: The name of the decorative item (e.g., 'Mantap', 'Centerpiece').\\n   - description: Detailed specifications, including size, materials, inclusions, and exclusions.\\n3. Item Counting: If multiple instances of an item exist, include the count in parentheses. Example: 'Basket(3)' instead of 'Basket'.\\n4. Detail-Oriented: Include measurements, material types, and any relevant notes about included/excluded items or conditions (e.g., 'Platform not included').\\n5. Clarity: Use simple, direct language for object names and descriptions.\"\n",
    "prompt = '\"Task: Analyze the image and generate a dictionary of decorative items present.\\n\\n Rules to Follow:  \\n1. Ignore People: If any person/people are present in the image, do NOT mention them. Only focus on décor elements.  \\n2. Structured Output: Return the response in a clean, in dictionary format where first key is category_name and the second is description.  \\n3. Item Counting: If multiple instances of the same item are present, include the count in parentheses.  \\n   - Example: If there are three baskets, write \\\"Basket(3)\\\" instead of just \\\"Basket.\\\"  \\n4. Maintain Clarity: Use simple and precise object names.\"'"
   ]
  }
 ],
 "metadata": {
  "kernelspec": {
   "display_name": "BETTERHALF",
   "language": "python",
   "name": "python3"
  },
  "language_info": {
   "codemirror_mode": {
    "name": "ipython",
    "version": 3
   },
   "file_extension": ".py",
   "mimetype": "text/x-python",
   "name": "python",
   "nbconvert_exporter": "python",
   "pygments_lexer": "ipython3",
   "version": "3.9.18"
  }
 },
 "nbformat": 4,
 "nbformat_minor": 2
}
